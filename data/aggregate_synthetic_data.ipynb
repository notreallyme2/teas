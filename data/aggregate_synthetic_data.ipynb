{
 "cells": [
  {
   "cell_type": "code",
   "execution_count": 1,
   "metadata": {},
   "outputs": [],
   "source": [
    "from os import listdir\n",
    "from os.path import isfile, join\n",
    "import typing\n",
    "from typing import List\n",
    "import numpy as np\n",
    "import pandas as pd\n",
    "\n",
    "import matplotlib.pyplot as plt\n",
    "plt.ion()"
   ]
  },
  {
   "cell_type": "code",
   "execution_count": 2,
   "metadata": {},
   "outputs": [],
   "source": [
    "data_path = \"/Users/lindsayedwards/teas-data/gnw/e-coli-full/\"\n",
    "tsv_files = [f for f in listdir(data_path) if f.endswith(\".tsv\") and \"noise\" not in f]"
   ]
  },
  {
   "cell_type": "code",
   "execution_count": 3,
   "metadata": {},
   "outputs": [
    {
     "data": {
      "text/plain": [
       "['Ecoli_proteins_wildtype.tsv',\n",
       " 'Ecoli_dualknockouts.tsv',\n",
       " 'Ecoli_dualknockouts_perturbations.tsv',\n",
       " 'Ecoli_multifactorial.tsv',\n",
       " 'Ecoli_proteins_knockdowns.tsv',\n",
       " 'Ecoli_goldstandard_signed.tsv',\n",
       " 'Ecoli_dream4_timeseries.tsv',\n",
       " 'Ecoli_proteins_knockouts.tsv',\n",
       " 'Ecoli_knockouts.tsv',\n",
       " 'Ecoli_multifactorial_perturbations.tsv',\n",
       " 'Ecoli_dualknockouts_indexes.tsv',\n",
       " 'Ecoli_wildtype.tsv',\n",
       " 'Ecoli_dream4_timeseries_perturbations.tsv',\n",
       " 'Ecoli_knockdowns.tsv',\n",
       " 'Ecoli_proteins_multifactorial.tsv',\n",
       " 'Ecoli_normalization_constant.tsv',\n",
       " 'Ecoli_goldstandard.tsv',\n",
       " 'Ecoli_proteins_dream4_timeseries.tsv',\n",
       " 'Ecoli_proteins_dualknockouts.tsv']"
      ]
     },
     "execution_count": 3,
     "metadata": {},
     "output_type": "execute_result"
    }
   ],
   "source": [
    "tsv_files"
   ]
  },
  {
   "cell_type": "code",
   "execution_count": 4,
   "metadata": {},
   "outputs": [],
   "source": [
    "all_dfs = [pd.read_csv(join(data_path, f), sep=\"\\t\") for f in tsv_files]"
   ]
  },
  {
   "cell_type": "code",
   "execution_count": 5,
   "metadata": {},
   "outputs": [],
   "source": [
    "col_size = [df.shape[1] for df in all_dfs]\n",
    "num_nodes = max(set(col_size), key=col_size.count) # take the mode as the most probable number of nodes"
   ]
  },
  {
   "cell_type": "markdown",
   "metadata": {},
   "source": [
    "Weird things happening with dataframe shape."
   ]
  },
  {
   "cell_type": "code",
   "execution_count": 7,
   "metadata": {},
   "outputs": [
    {
     "name": "stdout",
     "output_type": "stream",
     "text": [
      "5 Ecoli_goldstandard_signed.tsv (3647, 3)\n",
      "6 Ecoli_dream4_timeseries.tsv (210, 1566)\n",
      "10 Ecoli_dualknockouts_indexes.tsv (754, 2)\n",
      "15 Ecoli_normalization_constant.tsv (0, 1)\n",
      "16 Ecoli_goldstandard.tsv (2447659, 3)\n",
      "17 Ecoli_proteins_dream4_timeseries.tsv (210, 1566)\n"
     ]
    },
    {
     "data": {
      "text/plain": [
       "[None, None, None, None, None, None]"
      ]
     },
     "execution_count": 7,
     "metadata": {},
     "output_type": "execute_result"
    }
   ],
   "source": [
    "[print(idx, n, df.shape) for (n, (idx, df)) in zip(tsv_files, enumerate(all_dfs)) if df.shape[1] != num_nodes]"
   ]
  },
  {
   "cell_type": "code",
   "execution_count": 8,
   "metadata": {},
   "outputs": [
    {
     "data": {
      "text/html": [
       "<div>\n",
       "<style scoped>\n",
       "    .dataframe tbody tr th:only-of-type {\n",
       "        vertical-align: middle;\n",
       "    }\n",
       "\n",
       "    .dataframe tbody tr th {\n",
       "        vertical-align: top;\n",
       "    }\n",
       "\n",
       "    .dataframe thead th {\n",
       "        text-align: right;\n",
       "    }\n",
       "</style>\n",
       "<table border=\"1\" class=\"dataframe\">\n",
       "  <thead>\n",
       "    <tr style=\"text-align: right;\">\n",
       "      <th></th>\n",
       "      <th>acrR</th>\n",
       "      <th>acrA</th>\n",
       "      <th>acrB</th>\n",
       "      <th>micF</th>\n",
       "      <th>ada</th>\n",
       "      <th>alkB</th>\n",
       "      <th>alkA</th>\n",
       "      <th>aidB</th>\n",
       "      <th>adiY</th>\n",
       "      <th>adiA</th>\n",
       "      <th>...</th>\n",
       "      <th>yoeB</th>\n",
       "      <th>zntR</th>\n",
       "      <th>zntA</th>\n",
       "      <th>zraP</th>\n",
       "      <th>zur</th>\n",
       "      <th>ykgO</th>\n",
       "      <th>znuC</th>\n",
       "      <th>znuA</th>\n",
       "      <th>ykgM</th>\n",
       "      <th>znuB</th>\n",
       "    </tr>\n",
       "  </thead>\n",
       "  <tbody>\n",
       "    <tr>\n",
       "      <th>0</th>\n",
       "      <td>0.024964</td>\n",
       "      <td>0.030968</td>\n",
       "      <td>0.026008</td>\n",
       "      <td>0.028449</td>\n",
       "      <td>0.036823</td>\n",
       "      <td>0.0239</td>\n",
       "      <td>0.022802</td>\n",
       "      <td>0.019526</td>\n",
       "      <td>0.026287</td>\n",
       "      <td>0.017049</td>\n",
       "      <td>...</td>\n",
       "      <td>0.018421</td>\n",
       "      <td>0.05886</td>\n",
       "      <td>0.031402</td>\n",
       "      <td>0.021819</td>\n",
       "      <td>0.042343</td>\n",
       "      <td>0.036572</td>\n",
       "      <td>0.021707</td>\n",
       "      <td>0.0278</td>\n",
       "      <td>0.02223</td>\n",
       "      <td>0.079862</td>\n",
       "    </tr>\n",
       "    <tr>\n",
       "      <th>1</th>\n",
       "      <td>0.024964</td>\n",
       "      <td>0.030968</td>\n",
       "      <td>0.026008</td>\n",
       "      <td>0.028449</td>\n",
       "      <td>0.036823</td>\n",
       "      <td>0.0239</td>\n",
       "      <td>0.022802</td>\n",
       "      <td>0.019526</td>\n",
       "      <td>0.026287</td>\n",
       "      <td>0.017049</td>\n",
       "      <td>...</td>\n",
       "      <td>0.018421</td>\n",
       "      <td>0.05886</td>\n",
       "      <td>0.031402</td>\n",
       "      <td>0.021819</td>\n",
       "      <td>0.042343</td>\n",
       "      <td>0.036572</td>\n",
       "      <td>0.021707</td>\n",
       "      <td>0.0278</td>\n",
       "      <td>0.02223</td>\n",
       "      <td>0.079862</td>\n",
       "    </tr>\n",
       "    <tr>\n",
       "      <th>2</th>\n",
       "      <td>0.024964</td>\n",
       "      <td>0.030968</td>\n",
       "      <td>0.026008</td>\n",
       "      <td>0.028449</td>\n",
       "      <td>0.036823</td>\n",
       "      <td>0.0239</td>\n",
       "      <td>0.022802</td>\n",
       "      <td>0.019526</td>\n",
       "      <td>0.026287</td>\n",
       "      <td>0.017049</td>\n",
       "      <td>...</td>\n",
       "      <td>0.018421</td>\n",
       "      <td>0.05886</td>\n",
       "      <td>0.031402</td>\n",
       "      <td>0.021819</td>\n",
       "      <td>0.042343</td>\n",
       "      <td>0.036572</td>\n",
       "      <td>0.021707</td>\n",
       "      <td>0.0278</td>\n",
       "      <td>0.02223</td>\n",
       "      <td>0.079862</td>\n",
       "    </tr>\n",
       "    <tr>\n",
       "      <th>3</th>\n",
       "      <td>0.024964</td>\n",
       "      <td>0.030968</td>\n",
       "      <td>0.026008</td>\n",
       "      <td>0.028449</td>\n",
       "      <td>0.036823</td>\n",
       "      <td>0.0239</td>\n",
       "      <td>0.022802</td>\n",
       "      <td>0.019526</td>\n",
       "      <td>0.026287</td>\n",
       "      <td>0.017049</td>\n",
       "      <td>...</td>\n",
       "      <td>0.018421</td>\n",
       "      <td>0.05886</td>\n",
       "      <td>0.031402</td>\n",
       "      <td>0.021819</td>\n",
       "      <td>0.042343</td>\n",
       "      <td>0.036572</td>\n",
       "      <td>0.021707</td>\n",
       "      <td>0.0278</td>\n",
       "      <td>0.02223</td>\n",
       "      <td>0.079862</td>\n",
       "    </tr>\n",
       "    <tr>\n",
       "      <th>4</th>\n",
       "      <td>0.024964</td>\n",
       "      <td>0.030968</td>\n",
       "      <td>0.026008</td>\n",
       "      <td>0.028449</td>\n",
       "      <td>0.036823</td>\n",
       "      <td>0.0239</td>\n",
       "      <td>0.022802</td>\n",
       "      <td>0.019526</td>\n",
       "      <td>0.026287</td>\n",
       "      <td>0.017049</td>\n",
       "      <td>...</td>\n",
       "      <td>0.018421</td>\n",
       "      <td>0.05886</td>\n",
       "      <td>0.031402</td>\n",
       "      <td>0.021819</td>\n",
       "      <td>0.042343</td>\n",
       "      <td>0.036572</td>\n",
       "      <td>0.021707</td>\n",
       "      <td>0.0278</td>\n",
       "      <td>0.02223</td>\n",
       "      <td>0.079862</td>\n",
       "    </tr>\n",
       "  </tbody>\n",
       "</table>\n",
       "<p>5 rows × 1565 columns</p>\n",
       "</div>"
      ],
      "text/plain": [
       "       acrR      acrA      acrB      micF       ada    alkB      alkA  \\\n",
       "0  0.024964  0.030968  0.026008  0.028449  0.036823  0.0239  0.022802   \n",
       "1  0.024964  0.030968  0.026008  0.028449  0.036823  0.0239  0.022802   \n",
       "2  0.024964  0.030968  0.026008  0.028449  0.036823  0.0239  0.022802   \n",
       "3  0.024964  0.030968  0.026008  0.028449  0.036823  0.0239  0.022802   \n",
       "4  0.024964  0.030968  0.026008  0.028449  0.036823  0.0239  0.022802   \n",
       "\n",
       "       aidB      adiY      adiA  ...      yoeB     zntR      zntA      zraP  \\\n",
       "0  0.019526  0.026287  0.017049  ...  0.018421  0.05886  0.031402  0.021819   \n",
       "1  0.019526  0.026287  0.017049  ...  0.018421  0.05886  0.031402  0.021819   \n",
       "2  0.019526  0.026287  0.017049  ...  0.018421  0.05886  0.031402  0.021819   \n",
       "3  0.019526  0.026287  0.017049  ...  0.018421  0.05886  0.031402  0.021819   \n",
       "4  0.019526  0.026287  0.017049  ...  0.018421  0.05886  0.031402  0.021819   \n",
       "\n",
       "        zur      ykgO      znuC    znuA     ykgM      znuB  \n",
       "0  0.042343  0.036572  0.021707  0.0278  0.02223  0.079862  \n",
       "1  0.042343  0.036572  0.021707  0.0278  0.02223  0.079862  \n",
       "2  0.042343  0.036572  0.021707  0.0278  0.02223  0.079862  \n",
       "3  0.042343  0.036572  0.021707  0.0278  0.02223  0.079862  \n",
       "4  0.042343  0.036572  0.021707  0.0278  0.02223  0.079862  \n",
       "\n",
       "[5 rows x 1565 columns]"
      ]
     },
     "execution_count": 8,
     "metadata": {},
     "output_type": "execute_result"
    }
   ],
   "source": [
    "all_dfs[2].head()"
   ]
  },
  {
   "cell_type": "markdown",
   "metadata": {},
   "source": [
    "So there is a time component. Might be fun for RNN models!?? But we should remove that column"
   ]
  },
  {
   "cell_type": "code",
   "execution_count": 11,
   "metadata": {},
   "outputs": [
    {
     "data": {
      "text/plain": [
       "<matplotlib.axes._subplots.AxesSubplot at 0x12210d310>"
      ]
     },
     "execution_count": 11,
     "metadata": {},
     "output_type": "execute_result"
    },
    {
     "data": {
      "image/png": "[encoded data removed]",
      "text/plain": [
       "<Figure size 432x288 with 1 Axes>"
      ]
     },
     "metadata": {
      "needs_background": "light"
     },
     "output_type": "display_data"
    }
   ],
   "source": [
    "all_dfs[2]['acrB'].plot()"
   ]
  },
  {
   "cell_type": "code",
   "execution_count": 10,
   "metadata": {},
   "outputs": [],
   "source": [
    "from pandas import DataFrame"
   ]
  },
  {
   "cell_type": "code",
   "execution_count": 11,
   "metadata": {},
   "outputs": [],
   "source": [
    "merged_df = all_dfs[0]"
   ]
  },
  {
   "cell_type": "code",
   "execution_count": 12,
   "metadata": {},
   "outputs": [
    {
     "data": {
      "text/plain": [
       "(1, 500)"
      ]
     },
     "execution_count": 12,
     "metadata": {},
     "output_type": "execute_result"
    }
   ],
   "source": [
    "merged_df.shape"
   ]
  },
  {
   "cell_type": "code",
   "execution_count": 13,
   "metadata": {},
   "outputs": [],
   "source": [
    "for df in all_dfs[1:]:\n",
    "    if df.shape[1] != 500:\n",
    "        if df.shape[1] == 501:\n",
    "            merged_df = merged_df.append(df.iloc[:,1:], sort=True)\n",
    "        else:\n",
    "            pass\n",
    "    else:\n",
    "        merged_df = merged_df.append(df, sort=True)"
   ]
  },
  {
   "cell_type": "code",
   "execution_count": 14,
   "metadata": {},
   "outputs": [
    {
     "data": {
      "text/html": [
       "<div>\n",
       "<style scoped>\n",
       "    .dataframe tbody tr th:only-of-type {\n",
       "        vertical-align: middle;\n",
       "    }\n",
       "\n",
       "    .dataframe tbody tr th {\n",
       "        vertical-align: top;\n",
       "    }\n",
       "\n",
       "    .dataframe thead th {\n",
       "        text-align: right;\n",
       "    }\n",
       "</style>\n",
       "<table border=\"1\" class=\"dataframe\">\n",
       "  <thead>\n",
       "    <tr style=\"text-align: right;\">\n",
       "      <th></th>\n",
       "      <th>acrA</th>\n",
       "      <th>acrB</th>\n",
       "      <th>acrD</th>\n",
       "      <th>adrA</th>\n",
       "      <th>ahpC</th>\n",
       "      <th>ahpF</th>\n",
       "      <th>alaS</th>\n",
       "      <th>allA</th>\n",
       "      <th>allB</th>\n",
       "      <th>allC</th>\n",
       "      <th>...</th>\n",
       "      <th>ynfE</th>\n",
       "      <th>ynfF</th>\n",
       "      <th>ynfG</th>\n",
       "      <th>ynfH</th>\n",
       "      <th>yoaG</th>\n",
       "      <th>yqjA</th>\n",
       "      <th>yrbL</th>\n",
       "      <th>ytfE</th>\n",
       "      <th>zinT</th>\n",
       "      <th>zwf</th>\n",
       "    </tr>\n",
       "  </thead>\n",
       "  <tbody>\n",
       "    <tr>\n",
       "      <th>0</th>\n",
       "      <td>0.294664</td>\n",
       "      <td>0.092584</td>\n",
       "      <td>0.488607</td>\n",
       "      <td>0.174094</td>\n",
       "      <td>0.271341</td>\n",
       "      <td>0.378001</td>\n",
       "      <td>0.648849</td>\n",
       "      <td>0.005223</td>\n",
       "      <td>0.020562</td>\n",
       "      <td>0.012033</td>\n",
       "      <td>...</td>\n",
       "      <td>0.084998</td>\n",
       "      <td>0.050667</td>\n",
       "      <td>0.109524</td>\n",
       "      <td>0.107323</td>\n",
       "      <td>0.354529</td>\n",
       "      <td>0.670635</td>\n",
       "      <td>0.693253</td>\n",
       "      <td>0.333190</td>\n",
       "      <td>0.524343</td>\n",
       "      <td>0.191915</td>\n",
       "    </tr>\n",
       "    <tr>\n",
       "      <th>0</th>\n",
       "      <td>0.264658</td>\n",
       "      <td>0.058048</td>\n",
       "      <td>0.470147</td>\n",
       "      <td>0.296536</td>\n",
       "      <td>0.295839</td>\n",
       "      <td>0.323439</td>\n",
       "      <td>0.622076</td>\n",
       "      <td>0.016143</td>\n",
       "      <td>0.023722</td>\n",
       "      <td>0.008969</td>\n",
       "      <td>...</td>\n",
       "      <td>0.068630</td>\n",
       "      <td>0.016361</td>\n",
       "      <td>0.146048</td>\n",
       "      <td>0.056404</td>\n",
       "      <td>0.370408</td>\n",
       "      <td>0.676422</td>\n",
       "      <td>0.619028</td>\n",
       "      <td>0.402391</td>\n",
       "      <td>0.677500</td>\n",
       "      <td>0.137000</td>\n",
       "    </tr>\n",
       "    <tr>\n",
       "      <th>1</th>\n",
       "      <td>0.331810</td>\n",
       "      <td>0.071026</td>\n",
       "      <td>0.472651</td>\n",
       "      <td>0.179991</td>\n",
       "      <td>0.384327</td>\n",
       "      <td>0.395325</td>\n",
       "      <td>0.596240</td>\n",
       "      <td>0.691944</td>\n",
       "      <td>0.684229</td>\n",
       "      <td>0.454941</td>\n",
       "      <td>...</td>\n",
       "      <td>0.172619</td>\n",
       "      <td>0.011175</td>\n",
       "      <td>0.110215</td>\n",
       "      <td>0.118315</td>\n",
       "      <td>0.345721</td>\n",
       "      <td>0.564084</td>\n",
       "      <td>0.680821</td>\n",
       "      <td>0.413307</td>\n",
       "      <td>0.568779</td>\n",
       "      <td>0.180200</td>\n",
       "    </tr>\n",
       "    <tr>\n",
       "      <th>2</th>\n",
       "      <td>0.335241</td>\n",
       "      <td>0.141966</td>\n",
       "      <td>0.392059</td>\n",
       "      <td>0.187554</td>\n",
       "      <td>0.375568</td>\n",
       "      <td>0.370825</td>\n",
       "      <td>0.597947</td>\n",
       "      <td>0.023230</td>\n",
       "      <td>0.036065</td>\n",
       "      <td>0.005655</td>\n",
       "      <td>...</td>\n",
       "      <td>0.099305</td>\n",
       "      <td>0.050536</td>\n",
       "      <td>0.222056</td>\n",
       "      <td>0.096309</td>\n",
       "      <td>0.417925</td>\n",
       "      <td>0.707691</td>\n",
       "      <td>0.552163</td>\n",
       "      <td>0.384903</td>\n",
       "      <td>0.610966</td>\n",
       "      <td>0.210638</td>\n",
       "    </tr>\n",
       "    <tr>\n",
       "      <th>3</th>\n",
       "      <td>0.361994</td>\n",
       "      <td>0.153502</td>\n",
       "      <td>0.446023</td>\n",
       "      <td>0.177590</td>\n",
       "      <td>0.293448</td>\n",
       "      <td>0.436567</td>\n",
       "      <td>0.748479</td>\n",
       "      <td>0.000000</td>\n",
       "      <td>0.014571</td>\n",
       "      <td>0.006275</td>\n",
       "      <td>...</td>\n",
       "      <td>0.093587</td>\n",
       "      <td>0.056580</td>\n",
       "      <td>0.167252</td>\n",
       "      <td>0.105229</td>\n",
       "      <td>0.392862</td>\n",
       "      <td>0.725482</td>\n",
       "      <td>0.623140</td>\n",
       "      <td>0.438423</td>\n",
       "      <td>0.604094</td>\n",
       "      <td>0.135744</td>\n",
       "    </tr>\n",
       "  </tbody>\n",
       "</table>\n",
       "<p>5 rows × 500 columns</p>\n",
       "</div>"
      ],
      "text/plain": [
       "       acrA      acrB      acrD      adrA      ahpC      ahpF      alaS  \\\n",
       "0  0.294664  0.092584  0.488607  0.174094  0.271341  0.378001  0.648849   \n",
       "0  0.264658  0.058048  0.470147  0.296536  0.295839  0.323439  0.622076   \n",
       "1  0.331810  0.071026  0.472651  0.179991  0.384327  0.395325  0.596240   \n",
       "2  0.335241  0.141966  0.392059  0.187554  0.375568  0.370825  0.597947   \n",
       "3  0.361994  0.153502  0.446023  0.177590  0.293448  0.436567  0.748479   \n",
       "\n",
       "       allA      allB      allC  ...      ynfE      ynfF      ynfG      ynfH  \\\n",
       "0  0.005223  0.020562  0.012033  ...  0.084998  0.050667  0.109524  0.107323   \n",
       "0  0.016143  0.023722  0.008969  ...  0.068630  0.016361  0.146048  0.056404   \n",
       "1  0.691944  0.684229  0.454941  ...  0.172619  0.011175  0.110215  0.118315   \n",
       "2  0.023230  0.036065  0.005655  ...  0.099305  0.050536  0.222056  0.096309   \n",
       "3  0.000000  0.014571  0.006275  ...  0.093587  0.056580  0.167252  0.105229   \n",
       "\n",
       "       yoaG      yqjA      yrbL      ytfE      zinT       zwf  \n",
       "0  0.354529  0.670635  0.693253  0.333190  0.524343  0.191915  \n",
       "0  0.370408  0.676422  0.619028  0.402391  0.677500  0.137000  \n",
       "1  0.345721  0.564084  0.680821  0.413307  0.568779  0.180200  \n",
       "2  0.417925  0.707691  0.552163  0.384903  0.610966  0.210638  \n",
       "3  0.392862  0.725482  0.623140  0.438423  0.604094  0.135744  \n",
       "\n",
       "[5 rows x 500 columns]"
      ]
     },
     "execution_count": 14,
     "metadata": {},
     "output_type": "execute_result"
    }
   ],
   "source": [
    "merged_df.head()"
   ]
  },
  {
   "cell_type": "code",
   "execution_count": 15,
   "metadata": {},
   "outputs": [
    {
     "data": {
      "text/plain": [
       "(4244, 500)"
      ]
     },
     "execution_count": 15,
     "metadata": {},
     "output_type": "execute_result"
    }
   ],
   "source": [
    "merged_df.shape"
   ]
  },
  {
   "cell_type": "markdown",
   "metadata": {},
   "source": [
    "Let's have a look at the joined data:"
   ]
  },
  {
   "cell_type": "code",
   "execution_count": 16,
   "metadata": {},
   "outputs": [],
   "source": [
    "from sklearn.decomposition import PCA"
   ]
  },
  {
   "cell_type": "code",
   "execution_count": 17,
   "metadata": {},
   "outputs": [],
   "source": [
    "pca = PCA(n_components=2)"
   ]
  },
  {
   "cell_type": "code",
   "execution_count": 18,
   "metadata": {},
   "outputs": [],
   "source": [
    "transformed_data = pca.fit_transform(merged_df)"
   ]
  },
  {
   "cell_type": "code",
   "execution_count": 24,
   "metadata": {},
   "outputs": [
    {
     "data": {
      "text/plain": [
       "array([-1.44832089, -1.36241293, -1.58350836, ...,  7.34625277,\n",
       "        7.19293855,  7.57571385])"
      ]
     },
     "execution_count": 24,
     "metadata": {},
     "output_type": "execute_result"
    }
   ],
   "source": [
    "transformed_data[:,0]"
   ]
  },
  {
   "cell_type": "code",
   "execution_count": 25,
   "metadata": {},
   "outputs": [
    {
     "data": {
      "text/plain": [
       "<matplotlib.collections.PathCollection at 0x12e06a810>"
      ]
     },
     "execution_count": 25,
     "metadata": {},
     "output_type": "execute_result"
    },
    {
     "data": {
      "image/png": "[encoded data removed]",
      "text/plain": [
       "<Figure size 432x288 with 1 Axes>"
      ]
     },
     "metadata": {
      "needs_background": "light"
     },
     "output_type": "display_data"
    }
   ],
   "source": [
    "plt.scatter(x = transformed_data[:,0], y = transformed_data[:,1])"
   ]
  },
  {
   "cell_type": "code",
   "execution_count": 14,
   "metadata": {},
   "outputs": [],
   "source": [
    "save_path = join(data_path, \"merged.csv\")"
   ]
  },
  {
   "cell_type": "code",
   "execution_count": 15,
   "metadata": {},
   "outputs": [],
   "source": [
    "merged_df.to_csv(save_path)"
   ]
  },
  {
   "cell_type": "code",
   "execution_count": null,
   "metadata": {},
   "outputs": [],
   "source": []
  }
 ],
 "metadata": {
  "kernelspec": {
   "display_name": "Python 3",
   "language": "python",
   "name": "python3"
  },
  "language_info": {
   "codemirror_mode": {
    "name": "ipython",
    "version": 3
   },
   "file_extension": ".py",
   "mimetype": "text/x-python",
   "name": "python",
   "nbconvert_exporter": "python",
   "pygments_lexer": "ipython3",
   "version": "3.7.4"
  }
 },
 "nbformat": 4,
 "nbformat_minor": 2
}
