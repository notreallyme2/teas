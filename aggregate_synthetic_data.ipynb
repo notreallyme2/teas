{
 "cells": [
  {
   "cell_type": "code",
   "execution_count": 38,
   "metadata": {},
   "outputs": [],
   "source": [
    "from os import listdir\n",
    "from os.path import isfile, join\n",
    "import typing\n",
    "from typing import List\n",
    "import pandas as pd"
   ]
  },
  {
   "cell_type": "code",
   "execution_count": 39,
   "metadata": {},
   "outputs": [],
   "source": [
    "data_path = \"data/data-simulation/e-coli-100-node/\"\n",
    "tsv_files = [f for f in listdir(data_path) if f.endswith(\".tsv\")]"
   ]
  },
  {
   "cell_type": "code",
   "execution_count": 40,
   "metadata": {},
   "outputs": [],
   "source": [
    "all_dfs = [pd.read_csv(join(data_path, f), sep=\"\\t\") for f in tsv_files]"
   ]
  },
  {
   "cell_type": "code",
   "execution_count": 41,
   "metadata": {},
   "outputs": [],
   "source": [
    "merged_df = all_dfs[0]"
   ]
  },
  {
   "cell_type": "markdown",
   "metadata": {},
   "source": [
    "Weird things happening with dataframe shape."
   ]
  },
  {
   "cell_type": "code",
   "execution_count": 62,
   "metadata": {},
   "outputs": [
    {
     "name": "stdout",
     "output_type": "stream",
     "text": [
      "7 Ecoli-1_proteins_dream4_timeseries.tsv (210, 101)\n",
      "10 Ecoli-1_goldstandard_signed.tsv (119, 3)\n",
      "14 Ecoli_goldstandard_signed.tsv (3647, 3)\n",
      "16 Ecoli-1_nonoise_proteins_dream4_timeseries.tsv (210, 101)\n",
      "18 Ecoli-1_dualknockouts_indexes.tsv (7, 2)\n",
      "21 Ecoli-1_noexpnoise_proteins_dream4_timeseries.tsv (210, 101)\n",
      "24 Ecoli-1_noexpnoise_dream4_timeseries.tsv (210, 101)\n",
      "35 Ecoli_goldstandard.tsv (2447659, 3)\n",
      "40 Ecoli-1_dream4_timeseries.tsv (210, 101)\n",
      "42 Ecoli-1_goldstandard.tsv (9899, 3)\n",
      "43 Ecoli-1_normalization_constant.tsv (0, 1)\n",
      "44 Ecoli-1_nonoise_dream4_timeseries.tsv (210, 101)\n"
     ]
    },
    {
     "data": {
      "text/plain": [
       "[None, None, None, None, None, None, None, None, None, None, None, None]"
      ]
     },
     "execution_count": 62,
     "metadata": {},
     "output_type": "execute_result"
    }
   ],
   "source": [
    "[print(idx, n, df.shape) for (n, (idx, df)) in zip(tsv_files, enumerate(all_dfs)) if df.shape[1] != 100]"
   ]
  },
  {
   "cell_type": "code",
   "execution_count": 78,
   "metadata": {},
   "outputs": [
    {
     "data": {
      "text/html": [
       "<div>\n",
       "<style scoped>\n",
       "    .dataframe tbody tr th:only-of-type {\n",
       "        vertical-align: middle;\n",
       "    }\n",
       "\n",
       "    .dataframe tbody tr th {\n",
       "        vertical-align: top;\n",
       "    }\n",
       "\n",
       "    .dataframe thead th {\n",
       "        text-align: right;\n",
       "    }\n",
       "</style>\n",
       "<table border=\"1\" class=\"dataframe\">\n",
       "  <thead>\n",
       "    <tr style=\"text-align: right;\">\n",
       "      <th></th>\n",
       "      <th>asnC</th>\n",
       "      <th>asnA</th>\n",
       "      <th>+</th>\n",
       "    </tr>\n",
       "  </thead>\n",
       "  <tbody>\n",
       "    <tr>\n",
       "      <th>0</th>\n",
       "      <td>asnC</td>\n",
       "      <td>mnmG</td>\n",
       "      <td>-</td>\n",
       "    </tr>\n",
       "    <tr>\n",
       "      <th>1</th>\n",
       "      <td>asnC</td>\n",
       "      <td>mioC</td>\n",
       "      <td>-</td>\n",
       "    </tr>\n",
       "    <tr>\n",
       "      <th>2</th>\n",
       "      <td>cbl</td>\n",
       "      <td>ssuB</td>\n",
       "      <td>+</td>\n",
       "    </tr>\n",
       "    <tr>\n",
       "      <th>3</th>\n",
       "      <td>cbl</td>\n",
       "      <td>tauD</td>\n",
       "      <td>+</td>\n",
       "    </tr>\n",
       "    <tr>\n",
       "      <th>4</th>\n",
       "      <td>cbl</td>\n",
       "      <td>tauA</td>\n",
       "      <td>+</td>\n",
       "    </tr>\n",
       "  </tbody>\n",
       "</table>\n",
       "</div>"
      ],
      "text/plain": [
       "   asnC  asnA  +\n",
       "0  asnC  mnmG  -\n",
       "1  asnC  mioC  -\n",
       "2   cbl  ssuB  +\n",
       "3   cbl  tauD  +\n",
       "4   cbl  tauA  +"
      ]
     },
     "execution_count": 78,
     "metadata": {},
     "output_type": "execute_result"
    }
   ],
   "source": [
    "all_dfs [10].head()"
   ]
  },
  {
   "cell_type": "markdown",
   "metadata": {},
   "source": [
    "So there is a time component. Might be fun for RNN models!?? But we should remove that."
   ]
  },
  {
   "cell_type": "code",
   "execution_count": null,
   "metadata": {},
   "outputs": [],
   "source": [
    "from pandas import DataFrame"
   ]
  },
  {
   "cell_type": "code",
   "execution_count": 50,
   "metadata": {},
   "outputs": [
    {
     "data": {
      "text/plain": [
       "(10, 100)"
      ]
     },
     "execution_count": 50,
     "metadata": {},
     "output_type": "execute_result"
    }
   ],
   "source": [
    "merged_df.shape"
   ]
  },
  {
   "cell_type": "code",
   "execution_count": 33,
   "metadata": {},
   "outputs": [],
   "source": [
    "def check_columns_align(df_to_match: pd.DataFrame, list_of_dfs: List[pd.DataFrame]) -> List[bool]:\n",
    "    match_bool = []\n",
    "    "
   ]
  },
  {
   "cell_type": "code",
   "execution_count": 79,
   "metadata": {},
   "outputs": [],
   "source": [
    "for df in all_dfs[1:]:\n",
    "    if df.shape[1] != 100:\n",
    "        if df.shape[1] == 101:\n",
    "            merged_df = merged_df.append(df.iloc[:,1:], sort=True)\n",
    "        else:\n",
    "            pass\n",
    "    else:\n",
    "        merged_df = merged_df.append(df, sort=True)"
   ]
  },
  {
   "cell_type": "code",
   "execution_count": 82,
   "metadata": {},
   "outputs": [],
   "source": [
    "save_path = join(data_path, \"merged.csv\")"
   ]
  },
  {
   "cell_type": "code",
   "execution_count": 83,
   "metadata": {},
   "outputs": [],
   "source": [
    "merged_df.to_csv(save_path)"
   ]
  },
  {
   "cell_type": "code",
   "execution_count": null,
   "metadata": {},
   "outputs": [],
   "source": []
  }
 ],
 "metadata": {
  "kernelspec": {
   "display_name": "Python (fastai)",
   "language": "python",
   "name": "fastai"
  },
  "language_info": {
   "codemirror_mode": {
    "name": "ipython",
    "version": 3
   },
   "file_extension": ".py",
   "mimetype": "text/x-python",
   "name": "python",
   "nbconvert_exporter": "python",
   "pygments_lexer": "ipython3",
   "version": "3.7.3"
  }
 },
 "nbformat": 4,
 "nbformat_minor": 2
}
