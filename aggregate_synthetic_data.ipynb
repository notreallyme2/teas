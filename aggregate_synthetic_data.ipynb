{
 "cells": [
  {
   "cell_type": "code",
   "execution_count": 2,
   "metadata": {},
   "outputs": [],
   "source": [
    "from os import listdir\n",
    "from os.path import isfile, join\n",
    "import typing\n",
    "from typing import List\n",
    "import numpy as np\n",
    "import pandas as pd\n",
    "\n",
    "import matplotlib.pyplot as plt\n",
    "plt.ion()"
   ]
  },
  {
   "cell_type": "code",
   "execution_count": 3,
   "metadata": {},
   "outputs": [],
   "source": [
    "data_path = \"data/data-simulation/e-coli-500-node/\"\n",
    "tsv_files = [f for f in listdir(data_path) if f.endswith(\".tsv\") and \"noise\" not in f]"
   ]
  },
  {
   "cell_type": "code",
   "execution_count": 4,
   "metadata": {},
   "outputs": [
    {
     "data": {
      "text/plain": [
       "['Ecoli-500-1_wildtype.tsv',\n",
       " 'Ecoli-500-1_proteins_knockouts.tsv',\n",
       " 'Ecoli-500-1_dream4_timeseries.tsv',\n",
       " 'Ecoli-500-1_goldstandard.tsv',\n",
       " 'Ecoli-500-1_proteins_dream4_timeseries.tsv',\n",
       " 'Ecoli-500-1_goldstandard_signed.tsv',\n",
       " 'Ecoli-500-1_proteins_knockdowns.tsv',\n",
       " 'Ecoli-500-1_normalization_constant.tsv',\n",
       " 'Ecoli-500-1_proteins_dualknockouts.tsv',\n",
       " 'Ecoli-500-1_dualknockouts_indexes.tsv',\n",
       " 'Ecoli-500-1_knockdowns.tsv',\n",
       " 'Ecoli-500-1_multifactorial.tsv',\n",
       " 'Ecoli-500-1_proteins_wildtype.tsv',\n",
       " 'Ecoli-500-1_dualknockouts.tsv',\n",
       " 'Ecoli-500-1_dualknockouts_perturbations.tsv',\n",
       " 'Ecoli-500-1_knockouts.tsv',\n",
       " 'Ecoli-500-1_multifactorial_perturbations.tsv',\n",
       " 'Ecoli-500-1_proteins_multifactorial.tsv',\n",
       " 'Ecoli-500-1_dream4_timeseries_perturbations.tsv']"
      ]
     },
     "execution_count": 4,
     "metadata": {},
     "output_type": "execute_result"
    }
   ],
   "source": [
    "tsv_files"
   ]
  },
  {
   "cell_type": "code",
   "execution_count": 5,
   "metadata": {},
   "outputs": [],
   "source": [
    "all_dfs = [pd.read_csv(join(data_path, f), sep=\"\\t\") for f in tsv_files]"
   ]
  },
  {
   "cell_type": "code",
   "execution_count": 6,
   "metadata": {},
   "outputs": [],
   "source": [
    "col_size = [df.shape[1] for df in all_dfs]\n",
    "num_nodes = max(set(col_size), key=col_size.count) # take the mode as the most probable number of nodes"
   ]
  },
  {
   "cell_type": "markdown",
   "metadata": {},
   "source": [
    "Weird things happening with dataframe shape."
   ]
  },
  {
   "cell_type": "code",
   "execution_count": 7,
   "metadata": {},
   "outputs": [
    {
     "name": "stdout",
     "output_type": "stream",
     "text": [
      "2 Ecoli-500-1_dream4_timeseries.tsv (210, 501)\n",
      "3 Ecoli-500-1_goldstandard.tsv (249499, 3)\n",
      "4 Ecoli-500-1_proteins_dream4_timeseries.tsv (210, 501)\n",
      "5 Ecoli-500-1_goldstandard_signed.tsv (835, 3)\n",
      "7 Ecoli-500-1_normalization_constant.tsv (0, 1)\n",
      "9 Ecoli-500-1_dualknockouts_indexes.tsv (104, 2)\n"
     ]
    },
    {
     "data": {
      "text/plain": [
       "[None, None, None, None, None, None]"
      ]
     },
     "execution_count": 7,
     "metadata": {},
     "output_type": "execute_result"
    }
   ],
   "source": [
    "[print(idx, n, df.shape) for (n, (idx, df)) in zip(tsv_files, enumerate(all_dfs)) if df.shape[1] != num_nodes]"
   ]
  },
  {
   "cell_type": "code",
   "execution_count": 8,
   "metadata": {},
   "outputs": [
    {
     "data": {
      "text/html": [
       "<div>\n",
       "<style scoped>\n",
       "    .dataframe tbody tr th:only-of-type {\n",
       "        vertical-align: middle;\n",
       "    }\n",
       "\n",
       "    .dataframe tbody tr th {\n",
       "        vertical-align: top;\n",
       "    }\n",
       "\n",
       "    .dataframe thead th {\n",
       "        text-align: right;\n",
       "    }\n",
       "</style>\n",
       "<table border=\"1\" class=\"dataframe\">\n",
       "  <thead>\n",
       "    <tr style=\"text-align: right;\">\n",
       "      <th></th>\n",
       "      <th>Time</th>\n",
       "      <th>allS</th>\n",
       "      <th>allR</th>\n",
       "      <th>ybbW</th>\n",
       "      <th>allA</th>\n",
       "      <th>allD</th>\n",
       "      <th>allE</th>\n",
       "      <th>allB</th>\n",
       "      <th>glxK</th>\n",
       "      <th>hyi</th>\n",
       "      <th>...</th>\n",
       "      <th>frdC</th>\n",
       "      <th>nikE</th>\n",
       "      <th>moeA</th>\n",
       "      <th>frdB</th>\n",
       "      <th>dcuA</th>\n",
       "      <th>nikA</th>\n",
       "      <th>cydC</th>\n",
       "      <th>nikB</th>\n",
       "      <th>cydD</th>\n",
       "      <th>nikD</th>\n",
       "    </tr>\n",
       "  </thead>\n",
       "  <tbody>\n",
       "    <tr>\n",
       "      <th>0</th>\n",
       "      <td>0</td>\n",
       "      <td>0.072651</td>\n",
       "      <td>0.721930</td>\n",
       "      <td>0.046473</td>\n",
       "      <td>0.015746</td>\n",
       "      <td>0.081733</td>\n",
       "      <td>0.012664</td>\n",
       "      <td>0.009114</td>\n",
       "      <td>0.010172</td>\n",
       "      <td>0.016605</td>\n",
       "      <td>...</td>\n",
       "      <td>0.193830</td>\n",
       "      <td>0.018304</td>\n",
       "      <td>0.498273</td>\n",
       "      <td>0.181664</td>\n",
       "      <td>0.110207</td>\n",
       "      <td>0.083310</td>\n",
       "      <td>0.412454</td>\n",
       "      <td>0.183343</td>\n",
       "      <td>0.642423</td>\n",
       "      <td>0.066620</td>\n",
       "    </tr>\n",
       "    <tr>\n",
       "      <th>1</th>\n",
       "      <td>50</td>\n",
       "      <td>0.053218</td>\n",
       "      <td>0.591898</td>\n",
       "      <td>0.017605</td>\n",
       "      <td>0.007820</td>\n",
       "      <td>0.142769</td>\n",
       "      <td>0.030078</td>\n",
       "      <td>0.005571</td>\n",
       "      <td>0.000861</td>\n",
       "      <td>0.029189</td>\n",
       "      <td>...</td>\n",
       "      <td>0.188816</td>\n",
       "      <td>0.016643</td>\n",
       "      <td>0.664268</td>\n",
       "      <td>0.146389</td>\n",
       "      <td>0.097142</td>\n",
       "      <td>0.092978</td>\n",
       "      <td>0.423825</td>\n",
       "      <td>0.030580</td>\n",
       "      <td>0.613945</td>\n",
       "      <td>0.036455</td>\n",
       "    </tr>\n",
       "    <tr>\n",
       "      <th>2</th>\n",
       "      <td>100</td>\n",
       "      <td>0.107256</td>\n",
       "      <td>0.704269</td>\n",
       "      <td>0.052539</td>\n",
       "      <td>0.003724</td>\n",
       "      <td>0.241703</td>\n",
       "      <td>0.026411</td>\n",
       "      <td>0.000336</td>\n",
       "      <td>0.000035</td>\n",
       "      <td>0.033919</td>\n",
       "      <td>...</td>\n",
       "      <td>0.153168</td>\n",
       "      <td>0.006274</td>\n",
       "      <td>0.624237</td>\n",
       "      <td>0.126872</td>\n",
       "      <td>0.142635</td>\n",
       "      <td>0.179924</td>\n",
       "      <td>0.353382</td>\n",
       "      <td>0.015212</td>\n",
       "      <td>0.557060</td>\n",
       "      <td>0.043732</td>\n",
       "    </tr>\n",
       "    <tr>\n",
       "      <th>3</th>\n",
       "      <td>150</td>\n",
       "      <td>0.151515</td>\n",
       "      <td>0.678541</td>\n",
       "      <td>0.030513</td>\n",
       "      <td>0.009971</td>\n",
       "      <td>0.238787</td>\n",
       "      <td>0.045030</td>\n",
       "      <td>0.001693</td>\n",
       "      <td>0.000858</td>\n",
       "      <td>0.035849</td>\n",
       "      <td>...</td>\n",
       "      <td>0.111021</td>\n",
       "      <td>0.009598</td>\n",
       "      <td>0.541334</td>\n",
       "      <td>0.101637</td>\n",
       "      <td>0.138584</td>\n",
       "      <td>0.240105</td>\n",
       "      <td>0.256883</td>\n",
       "      <td>0.008054</td>\n",
       "      <td>0.701070</td>\n",
       "      <td>0.070652</td>\n",
       "    </tr>\n",
       "    <tr>\n",
       "      <th>4</th>\n",
       "      <td>200</td>\n",
       "      <td>0.100932</td>\n",
       "      <td>0.721797</td>\n",
       "      <td>0.034870</td>\n",
       "      <td>0.016237</td>\n",
       "      <td>0.302869</td>\n",
       "      <td>0.039192</td>\n",
       "      <td>0.000016</td>\n",
       "      <td>0.000053</td>\n",
       "      <td>0.020141</td>\n",
       "      <td>...</td>\n",
       "      <td>0.154087</td>\n",
       "      <td>0.032936</td>\n",
       "      <td>0.516295</td>\n",
       "      <td>0.180629</td>\n",
       "      <td>0.125088</td>\n",
       "      <td>0.308727</td>\n",
       "      <td>0.236720</td>\n",
       "      <td>0.000270</td>\n",
       "      <td>0.582701</td>\n",
       "      <td>0.068070</td>\n",
       "    </tr>\n",
       "  </tbody>\n",
       "</table>\n",
       "<p>5 rows × 501 columns</p>\n",
       "</div>"
      ],
      "text/plain": [
       "   Time      allS      allR      ybbW      allA      allD      allE      allB  \\\n",
       "0     0  0.072651  0.721930  0.046473  0.015746  0.081733  0.012664  0.009114   \n",
       "1    50  0.053218  0.591898  0.017605  0.007820  0.142769  0.030078  0.005571   \n",
       "2   100  0.107256  0.704269  0.052539  0.003724  0.241703  0.026411  0.000336   \n",
       "3   150  0.151515  0.678541  0.030513  0.009971  0.238787  0.045030  0.001693   \n",
       "4   200  0.100932  0.721797  0.034870  0.016237  0.302869  0.039192  0.000016   \n",
       "\n",
       "       glxK       hyi  ...      frdC      nikE      moeA      frdB      dcuA  \\\n",
       "0  0.010172  0.016605  ...  0.193830  0.018304  0.498273  0.181664  0.110207   \n",
       "1  0.000861  0.029189  ...  0.188816  0.016643  0.664268  0.146389  0.097142   \n",
       "2  0.000035  0.033919  ...  0.153168  0.006274  0.624237  0.126872  0.142635   \n",
       "3  0.000858  0.035849  ...  0.111021  0.009598  0.541334  0.101637  0.138584   \n",
       "4  0.000053  0.020141  ...  0.154087  0.032936  0.516295  0.180629  0.125088   \n",
       "\n",
       "       nikA      cydC      nikB      cydD      nikD  \n",
       "0  0.083310  0.412454  0.183343  0.642423  0.066620  \n",
       "1  0.092978  0.423825  0.030580  0.613945  0.036455  \n",
       "2  0.179924  0.353382  0.015212  0.557060  0.043732  \n",
       "3  0.240105  0.256883  0.008054  0.701070  0.070652  \n",
       "4  0.308727  0.236720  0.000270  0.582701  0.068070  \n",
       "\n",
       "[5 rows x 501 columns]"
      ]
     },
     "execution_count": 8,
     "metadata": {},
     "output_type": "execute_result"
    }
   ],
   "source": [
    "all_dfs[2].head()"
   ]
  },
  {
   "cell_type": "markdown",
   "metadata": {},
   "source": [
    "So there is a time component. Might be fun for RNN models!?? But we should remove that column"
   ]
  },
  {
   "cell_type": "code",
   "execution_count": 9,
   "metadata": {},
   "outputs": [
    {
     "data": {
      "text/plain": [
       "<matplotlib.axes._subplots.AxesSubplot at 0x12bcae390>"
      ]
     },
     "execution_count": 9,
     "metadata": {},
     "output_type": "execute_result"
    },
    {
     "data": {
      "image/png": "[encoded data removed]",
      "text/plain": [
       "<Figure size 432x288 with 1 Axes>"
      ]
     },
     "metadata": {
      "needs_background": "light"
     },
     "output_type": "display_data"
    }
   ],
   "source": [
    "all_dfs[2]['allR'].plot()"
   ]
  },
  {
   "cell_type": "code",
   "execution_count": 10,
   "metadata": {},
   "outputs": [],
   "source": [
    "from pandas import DataFrame"
   ]
  },
  {
   "cell_type": "code",
   "execution_count": 11,
   "metadata": {},
   "outputs": [],
   "source": [
    "merged_df = all_dfs[0]"
   ]
  },
  {
   "cell_type": "code",
   "execution_count": 12,
   "metadata": {},
   "outputs": [
    {
     "data": {
      "text/plain": [
       "(1, 500)"
      ]
     },
     "execution_count": 12,
     "metadata": {},
     "output_type": "execute_result"
    }
   ],
   "source": [
    "merged_df.shape"
   ]
  },
  {
   "cell_type": "code",
   "execution_count": 13,
   "metadata": {},
   "outputs": [],
   "source": [
    "for df in all_dfs[1:]:\n",
    "    if df.shape[1] != 500:\n",
    "        if df.shape[1] == 501:\n",
    "            merged_df = merged_df.append(df.iloc[:,1:], sort=True)\n",
    "        else:\n",
    "            pass\n",
    "    else:\n",
    "        merged_df = merged_df.append(df, sort=True)"
   ]
  },
  {
   "cell_type": "code",
   "execution_count": 14,
   "metadata": {},
   "outputs": [
    {
     "data": {
      "text/html": [
       "<div>\n",
       "<style scoped>\n",
       "    .dataframe tbody tr th:only-of-type {\n",
       "        vertical-align: middle;\n",
       "    }\n",
       "\n",
       "    .dataframe tbody tr th {\n",
       "        vertical-align: top;\n",
       "    }\n",
       "\n",
       "    .dataframe thead th {\n",
       "        text-align: right;\n",
       "    }\n",
       "</style>\n",
       "<table border=\"1\" class=\"dataframe\">\n",
       "  <thead>\n",
       "    <tr style=\"text-align: right;\">\n",
       "      <th></th>\n",
       "      <th>acrA</th>\n",
       "      <th>acrB</th>\n",
       "      <th>acrD</th>\n",
       "      <th>adrA</th>\n",
       "      <th>ahpC</th>\n",
       "      <th>ahpF</th>\n",
       "      <th>alaS</th>\n",
       "      <th>allA</th>\n",
       "      <th>allB</th>\n",
       "      <th>allC</th>\n",
       "      <th>...</th>\n",
       "      <th>ynfE</th>\n",
       "      <th>ynfF</th>\n",
       "      <th>ynfG</th>\n",
       "      <th>ynfH</th>\n",
       "      <th>yoaG</th>\n",
       "      <th>yqjA</th>\n",
       "      <th>yrbL</th>\n",
       "      <th>ytfE</th>\n",
       "      <th>zinT</th>\n",
       "      <th>zwf</th>\n",
       "    </tr>\n",
       "  </thead>\n",
       "  <tbody>\n",
       "    <tr>\n",
       "      <th>0</th>\n",
       "      <td>0.294664</td>\n",
       "      <td>0.092584</td>\n",
       "      <td>0.488607</td>\n",
       "      <td>0.174094</td>\n",
       "      <td>0.271341</td>\n",
       "      <td>0.378001</td>\n",
       "      <td>0.648849</td>\n",
       "      <td>0.005223</td>\n",
       "      <td>0.020562</td>\n",
       "      <td>0.012033</td>\n",
       "      <td>...</td>\n",
       "      <td>0.084998</td>\n",
       "      <td>0.050667</td>\n",
       "      <td>0.109524</td>\n",
       "      <td>0.107323</td>\n",
       "      <td>0.354529</td>\n",
       "      <td>0.670635</td>\n",
       "      <td>0.693253</td>\n",
       "      <td>0.333190</td>\n",
       "      <td>0.524343</td>\n",
       "      <td>0.191915</td>\n",
       "    </tr>\n",
       "    <tr>\n",
       "      <th>0</th>\n",
       "      <td>0.264658</td>\n",
       "      <td>0.058048</td>\n",
       "      <td>0.470147</td>\n",
       "      <td>0.296536</td>\n",
       "      <td>0.295839</td>\n",
       "      <td>0.323439</td>\n",
       "      <td>0.622076</td>\n",
       "      <td>0.016143</td>\n",
       "      <td>0.023722</td>\n",
       "      <td>0.008969</td>\n",
       "      <td>...</td>\n",
       "      <td>0.068630</td>\n",
       "      <td>0.016361</td>\n",
       "      <td>0.146048</td>\n",
       "      <td>0.056404</td>\n",
       "      <td>0.370408</td>\n",
       "      <td>0.676422</td>\n",
       "      <td>0.619028</td>\n",
       "      <td>0.402391</td>\n",
       "      <td>0.677500</td>\n",
       "      <td>0.137000</td>\n",
       "    </tr>\n",
       "    <tr>\n",
       "      <th>1</th>\n",
       "      <td>0.331810</td>\n",
       "      <td>0.071026</td>\n",
       "      <td>0.472651</td>\n",
       "      <td>0.179991</td>\n",
       "      <td>0.384327</td>\n",
       "      <td>0.395325</td>\n",
       "      <td>0.596240</td>\n",
       "      <td>0.691944</td>\n",
       "      <td>0.684229</td>\n",
       "      <td>0.454941</td>\n",
       "      <td>...</td>\n",
       "      <td>0.172619</td>\n",
       "      <td>0.011175</td>\n",
       "      <td>0.110215</td>\n",
       "      <td>0.118315</td>\n",
       "      <td>0.345721</td>\n",
       "      <td>0.564084</td>\n",
       "      <td>0.680821</td>\n",
       "      <td>0.413307</td>\n",
       "      <td>0.568779</td>\n",
       "      <td>0.180200</td>\n",
       "    </tr>\n",
       "    <tr>\n",
       "      <th>2</th>\n",
       "      <td>0.335241</td>\n",
       "      <td>0.141966</td>\n",
       "      <td>0.392059</td>\n",
       "      <td>0.187554</td>\n",
       "      <td>0.375568</td>\n",
       "      <td>0.370825</td>\n",
       "      <td>0.597947</td>\n",
       "      <td>0.023230</td>\n",
       "      <td>0.036065</td>\n",
       "      <td>0.005655</td>\n",
       "      <td>...</td>\n",
       "      <td>0.099305</td>\n",
       "      <td>0.050536</td>\n",
       "      <td>0.222056</td>\n",
       "      <td>0.096309</td>\n",
       "      <td>0.417925</td>\n",
       "      <td>0.707691</td>\n",
       "      <td>0.552163</td>\n",
       "      <td>0.384903</td>\n",
       "      <td>0.610966</td>\n",
       "      <td>0.210638</td>\n",
       "    </tr>\n",
       "    <tr>\n",
       "      <th>3</th>\n",
       "      <td>0.361994</td>\n",
       "      <td>0.153502</td>\n",
       "      <td>0.446023</td>\n",
       "      <td>0.177590</td>\n",
       "      <td>0.293448</td>\n",
       "      <td>0.436567</td>\n",
       "      <td>0.748479</td>\n",
       "      <td>0.000000</td>\n",
       "      <td>0.014571</td>\n",
       "      <td>0.006275</td>\n",
       "      <td>...</td>\n",
       "      <td>0.093587</td>\n",
       "      <td>0.056580</td>\n",
       "      <td>0.167252</td>\n",
       "      <td>0.105229</td>\n",
       "      <td>0.392862</td>\n",
       "      <td>0.725482</td>\n",
       "      <td>0.623140</td>\n",
       "      <td>0.438423</td>\n",
       "      <td>0.604094</td>\n",
       "      <td>0.135744</td>\n",
       "    </tr>\n",
       "  </tbody>\n",
       "</table>\n",
       "<p>5 rows × 500 columns</p>\n",
       "</div>"
      ],
      "text/plain": [
       "       acrA      acrB      acrD      adrA      ahpC      ahpF      alaS  \\\n",
       "0  0.294664  0.092584  0.488607  0.174094  0.271341  0.378001  0.648849   \n",
       "0  0.264658  0.058048  0.470147  0.296536  0.295839  0.323439  0.622076   \n",
       "1  0.331810  0.071026  0.472651  0.179991  0.384327  0.395325  0.596240   \n",
       "2  0.335241  0.141966  0.392059  0.187554  0.375568  0.370825  0.597947   \n",
       "3  0.361994  0.153502  0.446023  0.177590  0.293448  0.436567  0.748479   \n",
       "\n",
       "       allA      allB      allC  ...      ynfE      ynfF      ynfG      ynfH  \\\n",
       "0  0.005223  0.020562  0.012033  ...  0.084998  0.050667  0.109524  0.107323   \n",
       "0  0.016143  0.023722  0.008969  ...  0.068630  0.016361  0.146048  0.056404   \n",
       "1  0.691944  0.684229  0.454941  ...  0.172619  0.011175  0.110215  0.118315   \n",
       "2  0.023230  0.036065  0.005655  ...  0.099305  0.050536  0.222056  0.096309   \n",
       "3  0.000000  0.014571  0.006275  ...  0.093587  0.056580  0.167252  0.105229   \n",
       "\n",
       "       yoaG      yqjA      yrbL      ytfE      zinT       zwf  \n",
       "0  0.354529  0.670635  0.693253  0.333190  0.524343  0.191915  \n",
       "0  0.370408  0.676422  0.619028  0.402391  0.677500  0.137000  \n",
       "1  0.345721  0.564084  0.680821  0.413307  0.568779  0.180200  \n",
       "2  0.417925  0.707691  0.552163  0.384903  0.610966  0.210638  \n",
       "3  0.392862  0.725482  0.623140  0.438423  0.604094  0.135744  \n",
       "\n",
       "[5 rows x 500 columns]"
      ]
     },
     "execution_count": 14,
     "metadata": {},
     "output_type": "execute_result"
    }
   ],
   "source": [
    "merged_df.head()"
   ]
  },
  {
   "cell_type": "code",
   "execution_count": 15,
   "metadata": {},
   "outputs": [
    {
     "data": {
      "text/plain": [
       "(4244, 500)"
      ]
     },
     "execution_count": 15,
     "metadata": {},
     "output_type": "execute_result"
    }
   ],
   "source": [
    "merged_df.shape"
   ]
  },
  {
   "cell_type": "markdown",
   "metadata": {},
   "source": [
    "Let's have a look at the joined data:"
   ]
  },
  {
   "cell_type": "code",
   "execution_count": 16,
   "metadata": {},
   "outputs": [],
   "source": [
    "from sklearn.decomposition import PCA"
   ]
  },
  {
   "cell_type": "code",
   "execution_count": 17,
   "metadata": {},
   "outputs": [],
   "source": [
    "pca = PCA(n_components=2)"
   ]
  },
  {
   "cell_type": "code",
   "execution_count": 18,
   "metadata": {},
   "outputs": [],
   "source": [
    "transformed_data = pca.fit_transform(merged_df)"
   ]
  },
  {
   "cell_type": "code",
   "execution_count": 24,
   "metadata": {},
   "outputs": [
    {
     "data": {
      "text/plain": [
       "array([-1.44832089, -1.36241293, -1.58350836, ...,  7.34625277,\n",
       "        7.19293855,  7.57571385])"
      ]
     },
     "execution_count": 24,
     "metadata": {},
     "output_type": "execute_result"
    }
   ],
   "source": [
    "transformed_data[:,0]"
   ]
  },
  {
   "cell_type": "code",
   "execution_count": 25,
   "metadata": {},
   "outputs": [
    {
     "data": {
      "text/plain": [
       "<matplotlib.collections.PathCollection at 0x12e06a810>"
      ]
     },
     "execution_count": 25,
     "metadata": {},
     "output_type": "execute_result"
    },
    {
     "data": {
      "image/png": "[encoded data removed]",
      "text/plain": [
       "<Figure size 432x288 with 1 Axes>"
      ]
     },
     "metadata": {
      "needs_background": "light"
     },
     "output_type": "display_data"
    }
   ],
   "source": [
    "plt.scatter(x = transformed_data[:,0], y = transformed_data[:,1])"
   ]
  },
  {
   "cell_type": "code",
   "execution_count": 14,
   "metadata": {},
   "outputs": [],
   "source": [
    "save_path = join(data_path, \"merged.csv\")"
   ]
  },
  {
   "cell_type": "code",
   "execution_count": 15,
   "metadata": {},
   "outputs": [],
   "source": [
    "merged_df.to_csv(save_path)"
   ]
  },
  {
   "cell_type": "code",
   "execution_count": null,
   "metadata": {},
   "outputs": [],
   "source": []
  }
 ],
 "metadata": {
  "kernelspec": {
   "display_name": "Python 3",
   "language": "python",
   "name": "python3"
  },
  "language_info": {
   "codemirror_mode": {
    "name": "ipython",
    "version": 3
   },
   "file_extension": ".py",
   "mimetype": "text/x-python",
   "name": "python",
   "nbconvert_exporter": "python",
   "pygments_lexer": "ipython3",
   "version": "3.7.4"
  }
 },
 "nbformat": 4,
 "nbformat_minor": 2
}
