{
 "cells": [
  {
   "cell_type": "markdown",
   "metadata": {},
   "source": [
    "# Target-embedding autoencoders"
   ]
  },
  {
   "cell_type": "code",
   "execution_count": 1,
   "metadata": {},
   "outputs": [],
   "source": [
    "import numpy as np\n",
    "import pandas as pd\n",
    "from tqdm import tqdm\n",
    "from sklearn.preprocessing import StandardScaler\n",
    "\n",
    "import torch\n",
    "from torch import nn, optim, tensor, FloatTensor\n",
    "from torch.utils.data import Dataset, TensorDataset, DataLoader\n",
    "\n",
    "from data.skl_synthetic import *\n",
    "from models.linear import LinearMLP, LinearAE, LinearFEA\n",
    "\n",
    "import matplotlib.pyplot as plt"
   ]
  },
  {
   "cell_type": "code",
   "execution_count": 2,
   "metadata": {},
   "outputs": [
    {
     "data": {
      "text/plain": [
       "<torch._C.Generator at 0x1a1ae987b0>"
      ]
     },
     "execution_count": 2,
     "metadata": {},
     "output_type": "execute_result"
    }
   ],
   "source": [
    "torch.manual_seed(123)"
   ]
  },
  {
   "cell_type": "markdown",
   "metadata": {},
   "source": [
    "### Load data, set model paramaters "
   ]
  },
  {
   "cell_type": "code",
   "execution_count": 3,
   "metadata": {},
   "outputs": [],
   "source": [
    "home = Path.home()\n",
    "path_for_data = home/\"teas-data/sklearn/\"\n",
    "if not os.path.exists(path_for_data):\n",
    "    make_skl_dataset()\n",
    "if os.path.exists(path_for_data):\n",
    "    X_train, X_valid, X_test, Y_train, Y_valid, Y_test = map(FloatTensor, load_skl_data(path_for_data))"
   ]
  },
  {
   "cell_type": "code",
   "execution_count": 4,
   "metadata": {},
   "outputs": [],
   "source": [
    "batch_size = 128\n",
    "train_ds = TensorDataset(X_train, Y_train)\n",
    "valid_ds = TensorDataset(X_valid, Y_valid)\n",
    "test_ds = TensorDataset(X_test, Y_test)\n",
    "train_dl = DataLoader(train_ds, batch_size)\n",
    "valid_dl = DataLoader(valid_ds, batch_size)\n",
    "test_dl = DataLoader(test_ds, batch_size)"
   ]
  },
  {
   "cell_type": "code",
   "execution_count": 13,
   "metadata": {},
   "outputs": [],
   "source": [
    "# these give us some shape values for later\n",
    "X, Y = next(iter(train_ds))\n",
    "input_dim = X.shape[0]\n",
    "hidden_dim = 128\n",
    "output_dim = Y.shape[0]"
   ]
  },
  {
   "cell_type": "markdown",
   "metadata": {},
   "source": [
    "### First, train a simple linear autoencoder *for Y*"
   ]
  },
  {
   "cell_type": "code",
   "execution_count": 14,
   "metadata": {},
   "outputs": [
    {
     "data": {
      "text/plain": [
       "LinearAE(\n",
       "  (input): Linear(in_features=1000, out_features=128, bias=True)\n",
       "  (output): Linear(in_features=128, out_features=1000, bias=True)\n",
       ")"
      ]
     },
     "execution_count": 14,
     "metadata": {},
     "output_type": "execute_result"
    }
   ],
   "source": [
    "lae_model = LinearAE(output_dim, hidden_dim)\n",
    "lae_model"
   ]
  },
  {
   "cell_type": "code",
   "execution_count": 16,
   "metadata": {},
   "outputs": [],
   "source": [
    "# train the linear AE\n",
    "epochs = 30\n",
    "lr = 5e-4\n",
    "opt = optim.Adam(lae_model.parameters(), lr)\n",
    "# opt = optim.SGD(lae_model.parameters(), lr)\n",
    "\n",
    "mse = nn.MSELoss()\n",
    "train_loss, valid_loss = [], []"
   ]
  },
  {
   "cell_type": "code",
   "execution_count": 17,
   "metadata": {},
   "outputs": [
    {
     "name": "stderr",
     "output_type": "stream",
     "text": [
      "100%|██████████| 30/30 [00:06<00:00,  4.68it/s]\n"
     ]
    }
   ],
   "source": [
    "# lrs = scale_lr(5e-4, 5e-4, epochs)\n",
    "for e in tqdm(range(epochs)):\n",
    "#     opt = optim.Adam(lae_model.parameters(), lrs[e])\n",
    "    this_train_loss = np.mean([lae_model.update_batch(Y, opt, mse) for _, Y in train_dl])\n",
    "    this_valid_loss = np.mean([lae_model.update_batch(Y, opt, mse, train=False) for _, Y in valid_dl])\n",
    "    train_loss.append(this_train_loss)\n",
    "    valid_loss.append(this_valid_loss)"
   ]
  },
  {
   "cell_type": "code",
   "execution_count": 18,
   "metadata": {},
   "outputs": [
    {
     "data": {
      "image/png": "[encoded data removed]",
      "text/plain": [
       "<Figure size 432x288 with 1 Axes>"
      ]
     },
     "metadata": {
      "needs_background": "light"
     },
     "output_type": "display_data"
    }
   ],
   "source": [
    "# plot losses\n",
    "plt.plot([e for e in range(epochs)], train_loss, 'b')\n",
    "plt.plot([e for e in range(epochs)], valid_loss, 'r')\n",
    "plt.title(\"Losses (training loss in blue)\")\n",
    "plt.show()"
   ]
  },
  {
   "cell_type": "markdown",
   "metadata": {},
   "source": [
    "### Final validation loss (predict Y from Y)"
   ]
  },
  {
   "cell_type": "code",
   "execution_count": 19,
   "metadata": {},
   "outputs": [
    {
     "name": "stdout",
     "output_type": "stream",
     "text": [
      "Final valid loss: 0.010766220395453274\n"
     ]
    }
   ],
   "source": [
    "print(\"Final valid loss: {}\".format(valid_loss[-1]))"
   ]
  },
  {
   "cell_type": "markdown",
   "metadata": {},
   "source": [
    "### Visualise predicted vs. actual"
   ]
  },
  {
   "cell_type": "code",
   "execution_count": 20,
   "metadata": {},
   "outputs": [],
   "source": [
    "# pick a row, generate predictions\n",
    "idx = 10\n",
    "X, Y = valid_ds[idx]\n",
    "# Y_hat, X_tilde = lfea_model(X)\n",
    "Y_tilde = lae_model(Y)"
   ]
  },
  {
   "cell_type": "code",
   "execution_count": 21,
   "metadata": {},
   "outputs": [
    {
     "data": {
      "image/png": "[encoded data removed]",
      "text/plain": [
       "<Figure size 432x288 with 1 Axes>"
      ]
     },
     "metadata": {
      "needs_background": "light"
     },
     "output_type": "display_data"
    }
   ],
   "source": [
    "# Y_tilde vs. Y\n",
    "plt.scatter(Y.detach().numpy(), Y_tilde.detach().numpy())\n",
    "plt.title(\"Predicted Y vs. observed Y\");\n",
    "plt.xlim(0, 1.5)\n",
    "plt.ylim(0, 1.5)\n",
    "plt.xlabel(\"Observed\");\n",
    "plt.ylabel(\"Predicted\");"
   ]
  },
  {
   "cell_type": "markdown",
   "metadata": {},
   "source": [
    "### Now use these weights in a TEA"
   ]
  },
  {
   "cell_type": "code",
   "execution_count": 22,
   "metadata": {},
   "outputs": [],
   "source": [
    "class LinearTEA(nn.Module):\n",
    "    \"\"\"A pytorch module to build a linear target-embedding autoencoder\"\"\"\n",
    "\n",
    "    def __init__(self, input_dim=input_dim, hidden_dim = 256, output_dim=output_dim):\n",
    "        \"\"\"\n",
    "        Parameters\n",
    "        ----------\n",
    "        input_dim : int\n",
    "            The number of input features\n",
    "        hidden_dim : int\n",
    "            The number of features in the hidden layer\n",
    "        output_dim : int\n",
    "            The number of output features\n",
    "        \"\"\"\n",
    "        super().__init__()\n",
    "        self.input_X = nn.Linear(input_dim, hidden_dim)\n",
    "        self.input_Y = nn.Linear(output_dim, hidden_dim)\n",
    "        self.predict_Y = nn.Linear(hidden_dim, output_dim)\n",
    "  \n",
    "    def forward(self, X, Y):\n",
    "        Z_from_X = self.input_X(X)\n",
    "        Z_from_Y = self.input_Y(Y)\n",
    "        Y_hat = self.predict_Y(Z_from_Y)\n",
    "        return Y_hat, Z_from_Y, Z_from_X\n",
    "    \n",
    "    def predict_Y_from_X(self, X):\n",
    "        \"\"\"Make a prediction of Y from X only. For inference use.\"\"\"\n",
    "        Z_from_X = self.input_X(X)\n",
    "        Y_hat = self.predict_Y(Z_from_X)\n",
    "        return Y_hat\n",
    "    \n",
    "    def update_batch(self, X, Y, optimizer, criterion, train = True):\n",
    "        \"\"\"update_batch takes a model, data, a learning rate and a boolean indicating whether this update \n",
    "        should be treated as a training run (i.e. the model's weights should be updated) \n",
    "        or not.  \n",
    "\n",
    "        Parameters\n",
    "        ----------\n",
    "        model : torch.nn.mnodule\n",
    "            The model to be updated\n",
    "        X : torch.FloatTensor\n",
    "            The input data (i.e feature matrix)\n",
    "        Y : torch.FloatTensor\n",
    "            (The target matrix)\n",
    "        train : bool\n",
    "            Should the weights be updated (default = True)\n",
    "        \"\"\"\n",
    "        Y_hat, Z, Z_hat = self.forward(X, Y)\n",
    "        loss = criterion(Y, Y_hat, Z, Z_hat)\n",
    "        if train:\n",
    "            loss.backward()\n",
    "            optimizer.step()\n",
    "            optimizer.zero_grad()\n",
    "        return loss.item()"
   ]
  },
  {
   "cell_type": "code",
   "execution_count": 23,
   "metadata": {},
   "outputs": [],
   "source": [
    "class joint_loss(nn.Module):\n",
    "    \"\"\"\n",
    "    Parameters\n",
    "    ----------\n",
    "    lambda_ : float\n",
    "        Weighting in the joint joss. \n",
    "        Higher lambda_ favours lower reconstruction loss.\n",
    "    \"\"\"\n",
    "    def __init__(self, lambda_=0.5):\n",
    "        super().__init__()\n",
    "        self.X = X\n",
    "        self.Y = Y\n",
    "        self.lambda_ = lambda_\n",
    "        \n",
    "    def forward(self, Y, Y_hat, Z, Z_hat):\n",
    "        mse = nn.MSELoss()\n",
    "        return ( ((1 - self.lambda_) * mse(Y_hat, Y)) + (self.lambda_ * mse(Z_hat, Z)) )"
   ]
  },
  {
   "cell_type": "code",
   "execution_count": 86,
   "metadata": {},
   "outputs": [
    {
     "data": {
      "text/plain": [
       "LinearTEA(\n",
       "  (input_X): Linear(in_features=100, out_features=128, bias=True)\n",
       "  (input_Y): Linear(in_features=1000, out_features=128, bias=True)\n",
       "  (predict_Y): Linear(in_features=128, out_features=1000, bias=True)\n",
       ")"
      ]
     },
     "execution_count": 86,
     "metadata": {},
     "output_type": "execute_result"
    }
   ],
   "source": [
    "ltea_model = LinearTEA(input_dim, hidden_dim, output_dim)\n",
    "ltea_model"
   ]
  },
  {
   "cell_type": "markdown",
   "metadata": {},
   "source": [
    "### Copy the weights and biases from the trained AE"
   ]
  },
  {
   "cell_type": "code",
   "execution_count": 87,
   "metadata": {},
   "outputs": [
    {
     "data": {
      "text/plain": [
       "IncompatibleKeys(missing_keys=[], unexpected_keys=[])"
      ]
     },
     "execution_count": 87,
     "metadata": {},
     "output_type": "execute_result"
    }
   ],
   "source": [
    "ltea_model.input_Y.load_state_dict(lae_model.input.state_dict(), strict=True)"
   ]
  },
  {
   "cell_type": "code",
   "execution_count": 88,
   "metadata": {},
   "outputs": [
    {
     "data": {
      "text/plain": [
       "IncompatibleKeys(missing_keys=[], unexpected_keys=[])"
      ]
     },
     "execution_count": 88,
     "metadata": {},
     "output_type": "execute_result"
    }
   ],
   "source": [
    "ltea_model.predict_Y.load_state_dict(lae_model.output.state_dict(), strict=True)"
   ]
  },
  {
   "cell_type": "code",
   "execution_count": 80,
   "metadata": {},
   "outputs": [],
   "source": [
    "# train the linear TEA\n",
    "epochs = 3\n",
    "lr = 1e-3\n",
    "opt = optim.Adam(ltea_model.parameters(), lr)\n",
    "criterion = joint_loss(lambda_= .5)\n",
    "train_loss, valid_loss = [], []"
   ]
  },
  {
   "cell_type": "code",
   "execution_count": 81,
   "metadata": {
    "scrolled": true
   },
   "outputs": [
    {
     "name": "stderr",
     "output_type": "stream",
     "text": [
      "100%|██████████| 3/3 [00:00<00:00,  4.02it/s]\n"
     ]
    }
   ],
   "source": [
    "for e in tqdm(range(epochs)):\n",
    "    this_train_loss = np.mean([ltea_model.update_batch(X, Y, opt, criterion) for X, Y in train_dl])\n",
    "    this_valid_loss = np.mean([ltea_model.update_batch(X, Y, opt, criterion, train=False) for X, Y in valid_dl])\n",
    "    train_loss.append(this_train_loss)\n",
    "    valid_loss.append(this_valid_loss)"
   ]
  },
  {
   "cell_type": "code",
   "execution_count": 82,
   "metadata": {},
   "outputs": [
    {
     "data": {
      "image/png": "[encoded data removed]",
      "text/plain": [
       "<Figure size 432x288 with 1 Axes>"
      ]
     },
     "metadata": {
      "needs_background": "light"
     },
     "output_type": "display_data"
    }
   ],
   "source": [
    "# plot losses\n",
    "plt.plot([e for e in range(epochs)], train_loss, 'b')\n",
    "plt.plot([e for e in range(epochs)], valid_loss, 'r')\n",
    "plt.title(\"Losses (training loss in blue)\")\n",
    "plt.show()"
   ]
  },
  {
   "cell_type": "markdown",
   "metadata": {},
   "source": [
    "### Final validation loss on predicting Y from X"
   ]
  },
  {
   "cell_type": "code",
   "execution_count": 89,
   "metadata": {},
   "outputs": [
    {
     "name": "stdout",
     "output_type": "stream",
     "text": [
      "Final validation MSE loss on prediction task: 0.5839198231697083\n"
     ]
    }
   ],
   "source": [
    "# validation losses\n",
    "test_pred = []\n",
    "pred_error = []\n",
    "mse = nn.MSELoss()\n",
    "for X, Y in valid_ds:\n",
    "    Y_hat = ltea_model.predict(X)\n",
    "    test_pred.append(Y_hat.detach().numpy())\n",
    "    pred_error.append(mse(Y_hat, Y).detach().numpy())\n",
    "print(\"Final validation MSE loss on prediction task: {}\".format(np.mean(pred_error)))"
   ]
  },
  {
   "cell_type": "markdown",
   "metadata": {},
   "source": [
    "Results for different values of lambda:\n",
    "\n",
    "| Lambda   | Final validation loss |\n",
    "| :------- | :------------------   |\n",
    "| 0.00     | 0.5848469138145447    |\n",
    "| 0.25     | 0.20141418278217316   |\n",
    "| 0.50     | 0.1873609572649002    |\n",
    "| 0.75     |     ||\n",
    "\n",
    "The best performing model(s) favour Y_hat loss."
   ]
  },
  {
   "cell_type": "markdown",
   "metadata": {},
   "source": [
    "### Visualise predicted vs. actual"
   ]
  },
  {
   "cell_type": "code",
   "execution_count": 90,
   "metadata": {},
   "outputs": [],
   "source": [
    "# pick a row, generate predictions\n",
    "idx = 10\n",
    "X, Y = test_ds[idx]\n",
    "Y_hat_train, _, _ = ltea_model(X, Y)\n",
    "Y_hat_infer = ltea_model.predict(X)"
   ]
  },
  {
   "cell_type": "code",
   "execution_count": 92,
   "metadata": {},
   "outputs": [
    {
     "data": {
      "image/png": "[encoded data removed]",
      "text/plain": [
       "<Figure size 432x288 with 1 Axes>"
      ]
     },
     "metadata": {
      "needs_background": "light"
     },
     "output_type": "display_data"
    }
   ],
   "source": [
    "# Y_hat vs Y\n",
    "plt.scatter(Y.detach().numpy(), Y_hat_train.detach().numpy())\n",
    "plt.title(\"Predicted Y vs. observed Y\");\n",
    "plt.xlim(0, 1.5)\n",
    "plt.ylim(0, 1.5)\n",
    "plt.xlabel(\"Observed\");\n",
    "plt.ylabel(\"Predicted\");"
   ]
  },
  {
   "cell_type": "markdown",
   "metadata": {},
   "source": [
    "### Test loss "
   ]
  },
  {
   "cell_type": "code",
   "execution_count": null,
   "metadata": {},
   "outputs": [],
   "source": [
    "# test losses\n",
    "test_pred = []\n",
    "pred_error = []\n",
    "mse = nn.MSELoss()\n",
    "for X, Y in test_ds:\n",
    "    Y_hat, _ = lfea_model(X)\n",
    "    test_pred.append(Y_hat.detach().numpy())\n",
    "    pred_error.append(mse(Y_hat, Y).detach().numpy())\n",
    "print(\"Final test MSE loss on prediction task: {}\".format(np.mean(pred_error)))"
   ]
  },
  {
   "cell_type": "code",
   "execution_count": null,
   "metadata": {},
   "outputs": [],
   "source": [
    "gc.collect()"
   ]
  }
 ],
 "metadata": {
  "kernelspec": {
   "display_name": "Python (fastai)",
   "language": "python",
   "name": "fastai"
  },
  "language_info": {
   "codemirror_mode": {
    "name": "ipython",
    "version": 3
   },
   "file_extension": ".py",
   "mimetype": "text/x-python",
   "name": "python",
   "nbconvert_exporter": "python",
   "pygments_lexer": "ipython3",
   "version": "3.7.3"
  }
 },
 "nbformat": 4,
 "nbformat_minor": 2
}
