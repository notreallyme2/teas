{
 "cells": [
  {
   "cell_type": "markdown",
   "metadata": {},
   "source": [
    "# Target-embedded autoencoders"
   ]
  },
  {
   "cell_type": "code",
   "execution_count": 1,
   "metadata": {},
   "outputs": [],
   "source": [
    "import typing\n",
    "import numpy as np\n",
    "import pandas as pd\n",
    "from tqdm import tqdm\n",
    "\n",
    "import torch\n",
    "from torch import nn, optim, tensor, FloatTensor\n",
    "from torch.utils.data import Dataset, TensorDataset, DataLoader, random_split\n",
    "import torch.nn.functional as F\n",
    "\n",
    "from fastai.basics import DataBunch # used for easy batching\n",
    "\n",
    "from tea_models import LinearMLP\n",
    "\n",
    "import matplotlib.pyplot as plt"
   ]
  },
  {
   "cell_type": "code",
   "execution_count": 2,
   "metadata": {},
   "outputs": [],
   "source": [
    "synthetic_expression_data = pd.read_csv(\"data/net1_expression_data.tsv\", sep='\\t')\n",
    "chip_features = pd.read_csv(\"data/net1_chip_features.tsv\", sep='\\t')\n",
    "gene_ids = pd.read_csv(\"data/net1_gene_ids.tsv\", sep='\\t')\n",
    "tfs = pd.read_csv(\"data/net1_transcription_factors.tsv\", sep='\\t')"
   ]
  },
  {
   "cell_type": "code",
   "execution_count": 3,
   "metadata": {},
   "outputs": [],
   "source": [
    "X_idx = [g in tfs.iloc[:,0].tolist() for g in synthetic_expression_data.columns]"
   ]
  },
  {
   "cell_type": "code",
   "execution_count": 4,
   "metadata": {},
   "outputs": [
    {
     "data": {
      "text/plain": [
       "(805, 1643)"
      ]
     },
     "execution_count": 4,
     "metadata": {},
     "output_type": "execute_result"
    }
   ],
   "source": [
    "synthetic_expression_data.values.shape"
   ]
  },
  {
   "cell_type": "code",
   "execution_count": 5,
   "metadata": {},
   "outputs": [],
   "source": [
    "train, valid, test = map(torch.FloatTensor, (\n",
    "    synthetic_expression_data.values[:500, :], \n",
    "    synthetic_expression_data.values[500:700, :],\n",
    "    synthetic_expression_data.values[700:, :]))"
   ]
  },
  {
   "cell_type": "code",
   "execution_count": 6,
   "metadata": {},
   "outputs": [],
   "source": [
    "batch_size = 128\n",
    "train_ds = TensorDataset(train[:, X_idx], train)\n",
    "valid_ds = TensorDataset(valid[:, X_idx], valid)\n",
    "test_ds = TensorDataset(test[:, X_idx], test)\n",
    "data = DataBunch.create(train_ds, valid_ds, bs = batch_size) # easy batching"
   ]
  },
  {
   "cell_type": "code",
   "execution_count": 7,
   "metadata": {},
   "outputs": [
    {
     "data": {
      "text/plain": [
       "(torch.Size([194]), torch.Size([1643]))"
      ]
     },
     "execution_count": 7,
     "metadata": {},
     "output_type": "execute_result"
    }
   ],
   "source": [
    "X, Y = next(iter(train_ds))\n",
    "X.shape, Y.shape"
   ]
  },
  {
   "cell_type": "code",
   "execution_count": 21,
   "metadata": {},
   "outputs": [],
   "source": [
    "class LinearAE(nn.Module):\n",
    "    \"\"\"A pytorch module to build a simple linear autoencoder\"\"\"\n",
    "\n",
    "    def __init__(self, input_dim = 194, hidden_dim = 256):\n",
    "        \"\"\"\n",
    "        Parameters\n",
    "        ----------\n",
    "        input_dim : int\n",
    "            The number of input (and output) features\n",
    "        hidden_dim : int\n",
    "            The number of features in the hidden layer\n",
    "        \"\"\"\n",
    "        super().__init__()\n",
    "        self.input = nn.Linear(input_dim, hidden_dim)\n",
    "        self.output = nn.Linear(hidden_dim, input_dim)\n",
    "  \n",
    "    def forward(self, X):\n",
    "        X = self.input(X)\n",
    "        return (self.output(X))"
   ]
  },
  {
   "cell_type": "code",
   "execution_count": 8,
   "metadata": {},
   "outputs": [],
   "source": [
    "class LinearFEA(nn.Module):\n",
    "    \"\"\"A pytorch module to build a linear forward-embedding autoencoder\"\"\"\n",
    "\n",
    "    def __init__(self, input_dim = 194, hidden_dim = 256, output_dim = 1643):\n",
    "        \"\"\"\n",
    "        Parameters\n",
    "        ----------\n",
    "        input_dim : int\n",
    "            The number of input features\n",
    "        hidden_dim : int\n",
    "            The number of features in the hidden layer\n",
    "        output_dim : int\n",
    "            The number of output features\n",
    "        \"\"\"\n",
    "        super().__init__()\n",
    "        self.input = nn.Linear(input_dim, hidden_dim)\n",
    "        self.predict_Y = nn.Linear(hidden_dim, output_dim)\n",
    "        self.reconstruct_X = nn.Linear(hidden_dim, input_dim)\n",
    "  \n",
    "    def forward(self, X):\n",
    "        Z = self.input(X)\n",
    "        Y_hat = self.predict_Y(Z)\n",
    "        X_tilde = self.reconstruct_X(Z)\n",
    "        return Y_hat, X_tilde"
   ]
  },
  {
   "cell_type": "code",
   "execution_count": 9,
   "metadata": {},
   "outputs": [],
   "source": [
    "class joint_loss(nn.Module):\n",
    "    \"\"\"\n",
    "    Parameters\n",
    "    ----------\n",
    "    lambda_ : float\n",
    "        Weighting in the joint joss. \n",
    "        Higher lambda_ favours lower reconstruction loss.\n",
    "    \"\"\"\n",
    "    def __init__(self, lambda_=0.5):\n",
    "        super().__init__()\n",
    "        self.X = X\n",
    "        self.Y = Y\n",
    "        self.lambda_ = lambda_\n",
    "        \n",
    "    def forward(self, X, X_tilde, Y, Y_hat):\n",
    "        mse = nn.MSELoss()\n",
    "        return ( ((1 - self.lambda_) * mse(Y_hat, Y)) + (self.lambda_ * mse(X_tilde, X)) )"
   ]
  },
  {
   "cell_type": "code",
   "execution_count": 10,
   "metadata": {},
   "outputs": [],
   "source": [
    "loss_func = joint_loss(lambda_= .5)\n",
    "input_dim = sum(X_idx)\n",
    "hidden_dim = 256\n",
    "output_dim = synthetic_expression_data.shape[1]"
   ]
  },
  {
   "cell_type": "code",
   "execution_count": 11,
   "metadata": {},
   "outputs": [],
   "source": [
    "lfea_model = LinearFEA(input_dim, hidden_dim, output_dim)"
   ]
  },
  {
   "cell_type": "code",
   "execution_count": null,
   "metadata": {},
   "outputs": [],
   "source": [
    "lae_model = LinearFAE(input_dim, hidden_dim)"
   ]
  },
  {
   "cell_type": "code",
   "execution_count": 22,
   "metadata": {},
   "outputs": [],
   "source": [
    "def update_lae_batch(model, X, lr, train = True):\n",
    "    \"\"\"update_batch takes a model, data, a learning rate and a boolean indicating whether this update \n",
    "    should be treated as a training run (i.e. the model's weights should be updated) \n",
    "    or not. This function is not for production use, as it has a number of hidden parameters (e.g. optimizer).  \n",
    "    \n",
    "    Parameters\n",
    "    ----------\n",
    "    model : torch.nn.mnodule\n",
    "        The model to be updated\n",
    "    X : torch.FloatTensor\n",
    "        The input data (i.e feature matrix)\n",
    "    lr : float\n",
    "        The learning rate to be passed to the optimizer\n",
    "    train : bool\n",
    "        Should the weights be updated (default = True)\n",
    "    \"\"\"\n",
    "    X_tilde = model(X)\n",
    "    loss = loss_func(X_tilde, X)\n",
    "    if train:\n",
    "        opt = optim.Adam(model.parameters(), lr)\n",
    "        loss.backward()\n",
    "        opt.step()\n",
    "        opt.zero_grad()\n",
    "    return loss.item()"
   ]
  },
  {
   "cell_type": "code",
   "execution_count": 12,
   "metadata": {},
   "outputs": [],
   "source": [
    "def update_lfea_batch(model, X, Y, lr, train = True):\n",
    "    \"\"\"update_batch takes a model, data, a learning rate and a boolean indicating whether this update \n",
    "    should be treated as a training run (i.e. the model's weights should be updated) \n",
    "    or not. This function is not for production use, as it has a number of hidden parameters (e.g. optimizer).  \n",
    "    \n",
    "    Parameters\n",
    "    ----------\n",
    "    model : torch.nn.mnodule\n",
    "        The model to be updated\n",
    "    X : torch.FloatTensor\n",
    "        The input data (i.e feature matrix)\n",
    "    Y : torch.FloatTensor\n",
    "        The target matrix)\n",
    "    lr : float\n",
    "        The learning rate to be passed to the optimizer\n",
    "    train : bool\n",
    "        Should the weights be updated (default = True)\n",
    "    \"\"\"\n",
    "    Y_hat, X_tilde = model(X)\n",
    "    loss = loss_func(X, X_tilde, Y, Y_hat)\n",
    "    if train:\n",
    "        opt = optim.Adam(model.parameters(), lr)\n",
    "        loss.backward()\n",
    "        opt.step()\n",
    "        opt.zero_grad()\n",
    "    return loss.item()"
   ]
  },
  {
   "cell_type": "code",
   "execution_count": 15,
   "metadata": {},
   "outputs": [
    {
     "name": "stderr",
     "output_type": "stream",
     "text": [
      "100%|██████████| 20/20 [00:03<00:00,  6.28it/s]\n"
     ]
    }
   ],
   "source": [
    "epochs = 20\n",
    "lr = 1e-3\n",
    "train_loss, valid_loss = [], []\n",
    "for e in tqdm(range(epochs)):\n",
    "    this_train_loss = np.mean([update_lfea_batch(lfea_model, X, Y, lr) for X, Y in data.train_dl])\n",
    "    this_valid_loss = np.mean([update_lfea_batch(lfea_model, X, Y, lr, train=False) for X, Y in data.valid_dl])\n",
    "    train_loss.append(this_train_loss)\n",
    "    valid_loss.append(this_valid_loss)"
   ]
  },
  {
   "cell_type": "code",
   "execution_count": 16,
   "metadata": {},
   "outputs": [
    {
     "data": {
      "image/png": "[encoded data removed]",
      "text/plain": [
       "<Figure size 432x288 with 1 Axes>"
      ]
     },
     "metadata": {
      "needs_background": "light"
     },
     "output_type": "display_data"
    }
   ],
   "source": [
    "# plot losses\n",
    "plt.plot([e for e in range(epochs)], train_loss, 'b')\n",
    "plt.plot([e for e in range(epochs)], valid_loss, 'r')\n",
    "plt.title(\"Losses (training loss in blue)\")\n",
    "plt.show()"
   ]
  },
  {
   "cell_type": "markdown",
   "metadata": {},
   "source": [
    "### Test loss "
   ]
  },
  {
   "cell_type": "code",
   "execution_count": 152,
   "metadata": {},
   "outputs": [],
   "source": [
    "test_pred = []\n",
    "pred_error = []\n",
    "mse = nn.MSELoss()\n",
    "for X, Y in test_ds:\n",
    "    Y_hat, _ = lfea_model(X)\n",
    "    test_pred.append(Y_hat.detach().numpy())\n",
    "    pred_error.append(mse(Y_hat, Y).detach().numpy())"
   ]
  },
  {
   "cell_type": "code",
   "execution_count": 153,
   "metadata": {},
   "outputs": [
    {
     "name": "stdout",
     "output_type": "stream",
     "text": [
      "Final test MSE loss on prediction task: 0.06448226422071457\n"
     ]
    }
   ],
   "source": [
    "print(\"Final test MSE loss on prediction task: {}\".format(np.mean(pred_error)))"
   ]
  },
  {
   "cell_type": "markdown",
   "metadata": {},
   "source": [
    "### Visualise predicted vs. actual"
   ]
  },
  {
   "cell_type": "code",
   "execution_count": 17,
   "metadata": {},
   "outputs": [],
   "source": [
    "idx = 10\n",
    "X, Y = test_ds[idx]"
   ]
  },
  {
   "cell_type": "code",
   "execution_count": 18,
   "metadata": {},
   "outputs": [],
   "source": [
    "Y_hat, X_tilde = lfea_model(X)"
   ]
  },
  {
   "cell_type": "code",
   "execution_count": 19,
   "metadata": {},
   "outputs": [
    {
     "data": {
      "image/png": "[encoded data removed]",
      "text/plain": [
       "<Figure size 432x288 with 1 Axes>"
      ]
     },
     "metadata": {
      "needs_background": "light"
     },
     "output_type": "display_data"
    }
   ],
   "source": [
    "plt.scatter(Y.detach().numpy(), Y_hat.detach().numpy())\n",
    "plt.title(\"Predicted Y vs. observed Y\");\n",
    "plt.xlim(0, 1.5)\n",
    "plt.ylim(0, 1.5)\n",
    "plt.xlabel(\"Observed\");\n",
    "plt.ylabel(\"Predicted\");"
   ]
  },
  {
   "cell_type": "code",
   "execution_count": 20,
   "metadata": {},
   "outputs": [
    {
     "data": {
      "image/png": "[encoded data removed]",
      "text/plain": [
       "<Figure size 432x288 with 1 Axes>"
      ]
     },
     "metadata": {
      "needs_background": "light"
     },
     "output_type": "display_data"
    }
   ],
   "source": [
    "plt.scatter(X.detach().numpy(), X_tilde.detach().numpy())\n",
    "plt.title(\"Predicted X vs. observed X\");\n",
    "plt.xlim(0, 1.5)\n",
    "plt.ylim(0, 1.5)\n",
    "plt.xlabel(\"Observed\");\n",
    "plt.ylabel(\"Predicted\");"
   ]
  }
 ],
 "metadata": {
  "kernelspec": {
   "display_name": "Python (fastai)",
   "language": "python",
   "name": "fastai"
  },
  "language_info": {
   "codemirror_mode": {
    "name": "ipython",
    "version": 3
   },
   "file_extension": ".py",
   "mimetype": "text/x-python",
   "name": "python",
   "nbconvert_exporter": "python",
   "pygments_lexer": "ipython3",
   "version": "3.7.3"
  }
 },
 "nbformat": 4,
 "nbformat_minor": 2
}
