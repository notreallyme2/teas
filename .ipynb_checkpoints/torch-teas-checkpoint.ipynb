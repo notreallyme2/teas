{
 "cells": [
  {
   "cell_type": "code",
   "execution_count": 59,
   "metadata": {},
   "outputs": [],
   "source": [
    "import typing\n",
    "import numpy as np\n",
    "import pandas as pd\n",
    "\n",
    "import torch\n",
    "from torch import nn, optim, tensor, FloatTensor\n",
    "from torch.utils.data import Dataset, TensorDataset, DataLoader, random_split\n",
    "import torch.nn.functional as F\n",
    "\n",
    "from fastai.basics import *\n",
    "\n",
    "import matplotlib.pyplot as plt"
   ]
  },
  {
   "cell_type": "code",
   "execution_count": 60,
   "metadata": {},
   "outputs": [],
   "source": [
    "synthetic_expression_data = pd.read_csv(\"data/net1_expression_data.tsv\", sep='\\t')\n",
    "chip_features = pd.read_csv(\"data/net1_chip_features.tsv\", sep='\\t')\n",
    "gene_ids = pd.read_csv(\"data/net1_gene_ids.tsv\", sep='\\t')\n",
    "tfs = pd.read_csv(\"data/net1_transcription_factors.tsv\", sep='\\t')"
   ]
  },
  {
   "cell_type": "code",
   "execution_count": 61,
   "metadata": {},
   "outputs": [],
   "source": [
    "X_idx = [g in tfs.iloc[:,0].tolist() for g in synthetic_expression_data.columns]"
   ]
  },
  {
   "cell_type": "code",
   "execution_count": 62,
   "metadata": {},
   "outputs": [
    {
     "data": {
      "text/plain": [
       "(805, 1643)"
      ]
     },
     "execution_count": 62,
     "metadata": {},
     "output_type": "execute_result"
    }
   ],
   "source": [
    "synthetic_expression_data.values.shape"
   ]
  },
  {
   "cell_type": "code",
   "execution_count": 63,
   "metadata": {},
   "outputs": [],
   "source": [
    "train, valid = map(torch.FloatTensor, (synthetic_expression_data.values[:600, :], synthetic_expression_data.values[600:, :]))"
   ]
  },
  {
   "cell_type": "code",
   "execution_count": 64,
   "metadata": {},
   "outputs": [],
   "source": [
    "batch_size = 128\n",
    "train_ds = TensorDataset(train[:, X_idx], train)\n",
    "valid_ds = TensorDataset(valid[:, X_idx], valid)\n",
    "data = DataBunch.create(train_ds, valid_ds, bs = batch_size)"
   ]
  },
  {
   "cell_type": "code",
   "execution_count": 65,
   "metadata": {},
   "outputs": [
    {
     "data": {
      "text/plain": [
       "(torch.Size([128, 194]), torch.Size([128, 1643]))"
      ]
     },
     "execution_count": 65,
     "metadata": {},
     "output_type": "execute_result"
    }
   ],
   "source": [
    "X, Y = next(iter(data.train_dl))\n",
    "X.shape, Y.shape"
   ]
  },
  {
   "cell_type": "code",
   "execution_count": 99,
   "metadata": {},
   "outputs": [],
   "source": [
    "class LinearMLP(nn.Module):\n",
    "    \"\"\"A pytorch module to build a (standard) Forward-Embedding Autoencoder\"\"\"\n",
    "\n",
    "    def __init__(self, input_dim = 194, hidden_dim = 256, output_dim = 1643):\n",
    "        \"\"\"\n",
    "        Parameters\n",
    "        ----------\n",
    "        input_dim : int\n",
    "            The number of input features\n",
    "        hidden_dim : int\n",
    "            The number of features in the hidden layer\n",
    "        output_dim : int\n",
    "            The number of output features\n",
    "        \"\"\"\n",
    "        super().__init__()\n",
    "        self.fc1 = nn.Linear(input_dim, hidden_dim)\n",
    "        self.fc2 = nn.Linear(hidden_dim, output_dim)\n",
    "  \n",
    "    def forward(self, X):\n",
    "        X = self.fc1(X)\n",
    "        X = self.fc2(X)\n",
    "        return X\n",
    "    \n",
    "    def train(self, data_loader, optimizer, criterion):\n",
    "        \"\"\"\n",
    "        Parameters\n",
    "        ----------\n",
    "        data_loader : torch.utils.data.DataLoader\n",
    "        optimizer : torch.optim\n",
    "        criterion : function\n",
    "        \"\"\"\n",
    "        running_loss = 0\n",
    "        for i, (X, Y) in enumerate(data_loader):\n",
    "            optimizer.zero_grad()\n",
    "            Y_hat = self.forward(X)\n",
    "            loss = criterion(Y_hat, Y)\n",
    "            loss.backward()\n",
    "            optimizer.step()    \n",
    "            running_loss += loss.item()\n",
    "        print(\"Train loss: {0:.3f}\".format(running_loss / (i + 1))) # MSE loss needs to be averaged over all batches\n",
    "        return(running_loss / (i + 1))\n",
    "\n",
    "    def test(self, data_loader, criterion):\n",
    "        \"\"\"\n",
    "        Parameters\n",
    "        ----------\n",
    "        data_loader : torch.utils.data.DataLoader\n",
    "        criterion : function\n",
    "        \"\"\"\n",
    "        running_loss = 0\n",
    "        for i, (X, Y) in enumerate(data_loader):\n",
    "            Y_hat = self.forward(X)\n",
    "            loss = criterion(Y_hat, Y) \n",
    "            running_loss += loss.item()\n",
    "        print(\"Test loss: {0:.3f}\".format(running_loss / (i + 1))) # MSE loss needs to be averaged over all batches\n",
    "        return(running_loss / (i + 1))"
   ]
  },
  {
   "cell_type": "code",
   "execution_count": 106,
   "metadata": {},
   "outputs": [],
   "source": [
    "lmlp_model = LinearMLP(input_dim, hidden_dim, output_dim)"
   ]
  },
  {
   "cell_type": "code",
   "execution_count": 118,
   "metadata": {},
   "outputs": [],
   "source": [
    "loss_func = nn.MSELoss()\n",
    "input_dim = sum(X_idx)\n",
    "hidden_dim = 256\n",
    "output_dim = synthetic_expression_data.shape[1]\n",
    "lr=2e-3"
   ]
  },
  {
   "cell_type": "code",
   "execution_count": 123,
   "metadata": {},
   "outputs": [],
   "source": [
    "def update_batch(model, X, Y, lr, train = True):\n",
    "    \"\"\"\n",
    "    \"\"\"\n",
    "    Y_hat = model(X)\n",
    "    train_loss = loss_func(Y_hat, Y)\n",
    "    if train:\n",
    "        opt = optim.Adam(model.parameters(), lr)\n",
    "        train_loss.backward()\n",
    "        opt.step()\n",
    "        opt.zero_grad()\n",
    "    return loss.item()"
   ]
  },
  {
   "cell_type": "code",
   "execution_count": 124,
   "metadata": {},
   "outputs": [
    {
     "name": "stderr",
     "output_type": "stream",
     "text": [
      "ERROR:root:Internal Python error in the inspect module.\n",
      "Below is the traceback from this internal error.\n",
      "\n"
     ]
    },
    {
     "name": "stdout",
     "output_type": "stream",
     "text": [
      "Traceback (most recent call last):\n",
      "  File \"/anaconda3/envs/fastai/lib/python3.7/site-packages/IPython/core/interactiveshell.py\", line 3325, in run_code\n",
      "    exec(code_obj, self.user_global_ns, self.user_ns)\n",
      "  File \"<ipython-input-124-f3fd3e91dd8f>\", line 1, in <module>\n",
      "    losses = [update_batch(X, Y, lr) for X, Y in data.train_dl]\n",
      "  File \"<ipython-input-124-f3fd3e91dd8f>\", line 1, in <listcomp>\n",
      "    losses = [update_batch(X, Y, lr) for X, Y in data.train_dl]\n",
      "  File \"/anaconda3/envs/fastai/lib/python3.7/site-packages/fastai/basic_data.py\", line 75, in __iter__\n",
      "    for b in self.dl: yield self.proc_batch(b)\n",
      "  File \"/anaconda3/envs/fastai/lib/python3.7/site-packages/torch/utils/data/dataloader.py\", line 193, in __iter__\n",
      "  File \"/anaconda3/envs/fastai/lib/python3.7/site-packages/torch/utils/data/dataloader.py\", line 442, in __init__\n",
      "  File \"/anaconda3/envs/fastai/lib/python3.7/multiprocessing/context.py\", line 102, in Queue\n",
      "  File \"/anaconda3/envs/fastai/lib/python3.7/multiprocessing/queues.py\", line 41, in __init__\n",
      "  File \"/anaconda3/envs/fastai/lib/python3.7/multiprocessing/connection.py\", line 517, in Pipe\n",
      "OSError: [Errno 24] Too many open files\n",
      "\n",
      "During handling of the above exception, another exception occurred:\n",
      "\n",
      "Traceback (most recent call last):\n",
      "  File \"/anaconda3/envs/fastai/lib/python3.7/site-packages/IPython/core/interactiveshell.py\", line 2039, in showtraceback\n",
      "    stb = value._render_traceback_()\n",
      "AttributeError: 'OSError' object has no attribute '_render_traceback_'\n",
      "\n",
      "During handling of the above exception, another exception occurred:\n",
      "\n",
      "Traceback (most recent call last):\n",
      "  File \"/anaconda3/envs/fastai/lib/python3.7/site-packages/IPython/core/ultratb.py\", line 1101, in get_records\n",
      "  File \"/anaconda3/envs/fastai/lib/python3.7/site-packages/IPython/core/ultratb.py\", line 319, in wrapped\n",
      "  File \"/anaconda3/envs/fastai/lib/python3.7/site-packages/IPython/core/ultratb.py\", line 353, in _fixed_getinnerframes\n",
      "  File \"/anaconda3/envs/fastai/lib/python3.7/inspect.py\", line 1502, in getinnerframes\n",
      "  File \"/anaconda3/envs/fastai/lib/python3.7/inspect.py\", line 1460, in getframeinfo\n",
      "  File \"/anaconda3/envs/fastai/lib/python3.7/inspect.py\", line 696, in getsourcefile\n",
      "  File \"/anaconda3/envs/fastai/lib/python3.7/inspect.py\", line 725, in getmodule\n",
      "  File \"/anaconda3/envs/fastai/lib/python3.7/inspect.py\", line 709, in getabsfile\n",
      "  File \"/anaconda3/envs/fastai/lib/python3.7/posixpath.py\", line 383, in abspath\n",
      "OSError: [Errno 24] Too many open files\n"
     ]
    },
    {
     "ename": "OSError",
     "evalue": "[Errno 24] Too many open files",
     "output_type": "error",
     "traceback": [
      "\u001b[0;31m---------------------------------------------------------------------------\u001b[0m"
     ]
    }
   ],
   "source": [
    "losses = [update_batch(lmlp_model, X, Y, lr) for X, Y in data.train_dl]"
   ]
  },
  {
   "cell_type": "code",
   "execution_count": 111,
   "metadata": {},
   "outputs": [
    {
     "name": "stdout",
     "output_type": "stream",
     "text": [
      "Epoch 1 of 26\n",
      "Train loss: 0.467\n",
      "Test loss: 0.474\n",
      "Epoch 2 of 26\n",
      "Train loss: 0.467\n",
      "Test loss: 0.474\n",
      "Epoch 3 of 26\n",
      "Train loss: 0.467\n",
      "Test loss: 0.474\n",
      "Epoch 4 of 26\n",
      "Train loss: 0.466\n",
      "Test loss: 0.474\n",
      "Epoch 5 of 26\n",
      "Train loss: 0.467\n",
      "Test loss: 0.474\n",
      "Epoch 6 of 26\n",
      "Train loss: 0.467\n",
      "Test loss: 0.474\n",
      "Epoch 7 of 26\n",
      "Train loss: 0.468\n",
      "Test loss: 0.474\n",
      "Epoch 8 of 26\n",
      "Train loss: 0.467\n",
      "Test loss: 0.474\n",
      "Epoch 9 of 26\n",
      "Train loss: 0.467\n",
      "Test loss: 0.474\n",
      "Epoch 10 of 26\n",
      "Train loss: 0.467\n",
      "Test loss: 0.474\n",
      "Epoch 11 of 26\n",
      "Train loss: 0.467\n",
      "Test loss: 0.474\n",
      "Epoch 12 of 26\n",
      "Train loss: 0.467\n",
      "Test loss: 0.474\n",
      "Epoch 13 of 26\n",
      "Train loss: 0.467\n",
      "Test loss: 0.474\n",
      "Epoch 14 of 26\n",
      "Train loss: 0.467\n",
      "Test loss: 0.474\n",
      "Epoch 15 of 26\n",
      "Train loss: 0.466\n",
      "Test loss: 0.474\n",
      "Epoch 16 of 26\n",
      "Train loss: 0.467\n",
      "Test loss: 0.474\n",
      "Epoch 17 of 26\n",
      "Train loss: 0.467\n",
      "Test loss: 0.474\n",
      "Epoch 18 of 26\n",
      "Train loss: 0.467\n",
      "Test loss: 0.474\n",
      "Epoch 19 of 26\n",
      "Train loss: 0.466\n",
      "Test loss: 0.474\n",
      "Epoch 20 of 26\n",
      "Train loss: 0.467\n",
      "Test loss: 0.474\n",
      "Epoch 21 of 26\n",
      "Train loss: 0.466\n",
      "Test loss: 0.474\n",
      "Epoch 22 of 26\n",
      "Train loss: 0.467\n",
      "Test loss: 0.474\n",
      "Epoch 23 of 26\n",
      "Train loss: 0.467\n",
      "Test loss: 0.474\n",
      "Epoch 24 of 26\n",
      "Train loss: 0.467\n",
      "Test loss: 0.474\n",
      "Epoch 25 of 26\n",
      "Train loss: 0.467\n",
      "Test loss: 0.474\n"
     ]
    }
   ],
   "source": [
    "epochs = 25\n",
    "train_loss, test_loss = [], []\n",
    "for e in range(epochs):\n",
    "    print(\"Epoch {} of {}\".format(e+1, epochs+1))\n",
    "    train_loss.append( lmlp_model.train(data.train_dl, optimiser, criterion) )\n",
    "    test_loss.append( lmlp_model.test(data.valid_dl, criterion) )"
   ]
  },
  {
   "cell_type": "code",
   "execution_count": null,
   "metadata": {},
   "outputs": [],
   "source": [
    "# plot losses\n",
    "plt.plot([e for e in range(epochs)], train_loss, 'b')\n",
    "plt.plot([e for e in range(epochs)], test_loss, 'r')\n",
    "plt.title(\"Losses (training loss in blue)\")\n",
    "plt.show()"
   ]
  },
  {
   "cell_type": "code",
   "execution_count": null,
   "metadata": {},
   "outputs": [],
   "source": []
  },
  {
   "cell_type": "code",
   "execution_count": null,
   "metadata": {},
   "outputs": [],
   "source": []
  },
  {
   "cell_type": "code",
   "execution_count": null,
   "metadata": {},
   "outputs": [],
   "source": []
  },
  {
   "cell_type": "code",
   "execution_count": null,
   "metadata": {},
   "outputs": [],
   "source": []
  },
  {
   "cell_type": "code",
   "execution_count": null,
   "metadata": {},
   "outputs": [],
   "source": []
  },
  {
   "cell_type": "code",
   "execution_count": null,
   "metadata": {},
   "outputs": [],
   "source": []
  },
  {
   "cell_type": "code",
   "execution_count": null,
   "metadata": {},
   "outputs": [],
   "source": []
  },
  {
   "cell_type": "code",
   "execution_count": null,
   "metadata": {},
   "outputs": [],
   "source": [
    "learn.lr_find()\n",
    "learn.recorder.plot()"
   ]
  },
  {
   "cell_type": "code",
   "execution_count": 89,
   "metadata": {},
   "outputs": [],
   "source": [
    "learn = Learner(data, FEA(input_dim, hidden_dim, output_dim), loss_func=loss_func, wd=0)"
   ]
  },
  {
   "cell_type": "code",
   "execution_count": 70,
   "metadata": {
    "scrolled": true
   },
   "outputs": [
    {
     "data": {
      "text/html": [
       "<table border=\"1\" class=\"dataframe\">\n",
       "  <thead>\n",
       "    <tr style=\"text-align: left;\">\n",
       "      <th>epoch</th>\n",
       "      <th>train_loss</th>\n",
       "      <th>valid_loss</th>\n",
       "      <th>time</th>\n",
       "    </tr>\n",
       "  </thead>\n",
       "  <tbody>\n",
       "    <tr>\n",
       "      <td>0</td>\n",
       "      <td>0.267866</td>\n",
       "      <td>0.111356</td>\n",
       "      <td>00:00</td>\n",
       "    </tr>\n",
       "    <tr>\n",
       "      <td>1</td>\n",
       "      <td>0.168833</td>\n",
       "      <td>0.075680</td>\n",
       "      <td>00:00</td>\n",
       "    </tr>\n",
       "    <tr>\n",
       "      <td>2</td>\n",
       "      <td>0.130790</td>\n",
       "      <td>0.056360</td>\n",
       "      <td>00:00</td>\n",
       "    </tr>\n",
       "    <tr>\n",
       "      <td>3</td>\n",
       "      <td>0.107556</td>\n",
       "      <td>0.051443</td>\n",
       "      <td>00:00</td>\n",
       "    </tr>\n",
       "    <tr>\n",
       "      <td>4</td>\n",
       "      <td>0.092405</td>\n",
       "      <td>0.046580</td>\n",
       "      <td>00:00</td>\n",
       "    </tr>\n",
       "    <tr>\n",
       "      <td>5</td>\n",
       "      <td>0.081830</td>\n",
       "      <td>0.045940</td>\n",
       "      <td>00:00</td>\n",
       "    </tr>\n",
       "    <tr>\n",
       "      <td>6</td>\n",
       "      <td>0.073866</td>\n",
       "      <td>0.044085</td>\n",
       "      <td>00:00</td>\n",
       "    </tr>\n",
       "    <tr>\n",
       "      <td>7</td>\n",
       "      <td>0.067662</td>\n",
       "      <td>0.044091</td>\n",
       "      <td>00:00</td>\n",
       "    </tr>\n",
       "    <tr>\n",
       "      <td>8</td>\n",
       "      <td>0.062740</td>\n",
       "      <td>0.042107</td>\n",
       "      <td>00:00</td>\n",
       "    </tr>\n",
       "    <tr>\n",
       "      <td>9</td>\n",
       "      <td>0.058625</td>\n",
       "      <td>0.041616</td>\n",
       "      <td>00:00</td>\n",
       "    </tr>\n",
       "    <tr>\n",
       "      <td>10</td>\n",
       "      <td>0.055091</td>\n",
       "      <td>0.041141</td>\n",
       "      <td>00:00</td>\n",
       "    </tr>\n",
       "    <tr>\n",
       "      <td>11</td>\n",
       "      <td>0.052078</td>\n",
       "      <td>0.040523</td>\n",
       "      <td>00:00</td>\n",
       "    </tr>\n",
       "    <tr>\n",
       "      <td>12</td>\n",
       "      <td>0.049520</td>\n",
       "      <td>0.040031</td>\n",
       "      <td>00:00</td>\n",
       "    </tr>\n",
       "    <tr>\n",
       "      <td>13</td>\n",
       "      <td>0.047195</td>\n",
       "      <td>0.039559</td>\n",
       "      <td>00:00</td>\n",
       "    </tr>\n",
       "    <tr>\n",
       "      <td>14</td>\n",
       "      <td>0.045161</td>\n",
       "      <td>0.039094</td>\n",
       "      <td>00:00</td>\n",
       "    </tr>\n",
       "    <tr>\n",
       "      <td>15</td>\n",
       "      <td>0.043313</td>\n",
       "      <td>0.038695</td>\n",
       "      <td>00:00</td>\n",
       "    </tr>\n",
       "    <tr>\n",
       "      <td>16</td>\n",
       "      <td>0.041637</td>\n",
       "      <td>0.038251</td>\n",
       "      <td>00:00</td>\n",
       "    </tr>\n",
       "    <tr>\n",
       "      <td>17</td>\n",
       "      <td>0.040101</td>\n",
       "      <td>0.037977</td>\n",
       "      <td>00:00</td>\n",
       "    </tr>\n",
       "    <tr>\n",
       "      <td>18</td>\n",
       "      <td>0.038656</td>\n",
       "      <td>0.037564</td>\n",
       "      <td>00:00</td>\n",
       "    </tr>\n",
       "    <tr>\n",
       "      <td>19</td>\n",
       "      <td>0.037343</td>\n",
       "      <td>0.037525</td>\n",
       "      <td>00:00</td>\n",
       "    </tr>\n",
       "    <tr>\n",
       "      <td>20</td>\n",
       "      <td>0.036114</td>\n",
       "      <td>0.037025</td>\n",
       "      <td>00:00</td>\n",
       "    </tr>\n",
       "    <tr>\n",
       "      <td>21</td>\n",
       "      <td>0.034937</td>\n",
       "      <td>0.036698</td>\n",
       "      <td>00:00</td>\n",
       "    </tr>\n",
       "    <tr>\n",
       "      <td>22</td>\n",
       "      <td>0.033883</td>\n",
       "      <td>0.036422</td>\n",
       "      <td>00:00</td>\n",
       "    </tr>\n",
       "    <tr>\n",
       "      <td>23</td>\n",
       "      <td>0.032876</td>\n",
       "      <td>0.036164</td>\n",
       "      <td>00:00</td>\n",
       "    </tr>\n",
       "    <tr>\n",
       "      <td>24</td>\n",
       "      <td>0.031911</td>\n",
       "      <td>0.036071</td>\n",
       "      <td>00:00</td>\n",
       "    </tr>\n",
       "  </tbody>\n",
       "</table>"
      ],
      "text/plain": [
       "<IPython.core.display.HTML object>"
      ]
     },
     "metadata": {},
     "output_type": "display_data"
    }
   ],
   "source": [
    "learn.fit(epochs = 25, lr = 2e-3)"
   ]
  },
  {
   "cell_type": "code",
   "execution_count": 71,
   "metadata": {},
   "outputs": [
    {
     "data": {
      "image/png": "[encoded data removed]",
      "text/plain": [
       "<Figure size 432x288 with 1 Axes>"
      ]
     },
     "metadata": {
      "needs_background": "light"
     },
     "output_type": "display_data"
    }
   ],
   "source": [
    "learn.recorder.plot_losses()"
   ]
  },
  {
   "cell_type": "code",
   "execution_count": 72,
   "metadata": {},
   "outputs": [
    {
     "data": {
      "text/plain": [
       "(torch.Size([128, 194]), torch.Size([128, 1643]))"
      ]
     },
     "execution_count": 72,
     "metadata": {},
     "output_type": "execute_result"
    }
   ],
   "source": [
    "X, Y = next(iter(data.train_dl))\n",
    "X.shape, Y.shape"
   ]
  },
  {
   "cell_type": "code",
   "execution_count": 73,
   "metadata": {},
   "outputs": [],
   "source": [
    "Y_hat = learn.model(X[5]).detach().numpy()\n",
    "Y_obs = Y[5].detach().numpy()"
   ]
  },
  {
   "cell_type": "code",
   "execution_count": 74,
   "metadata": {},
   "outputs": [
    {
     "data": {
      "text/plain": [
       "(0, 1.5)"
      ]
     },
     "execution_count": 74,
     "metadata": {},
     "output_type": "execute_result"
    },
    {
     "data": {
      "image/png": "[encoded data removed]",
      "text/plain": [
       "<Figure size 432x288 with 1 Axes>"
      ]
     },
     "metadata": {
      "needs_background": "light"
     },
     "output_type": "display_data"
    }
   ],
   "source": [
    "plt.scatter(Y_hat, Y_obs)\n",
    "plt.xlim(0, 1.5)\n",
    "plt.ylim(0, 1.5)"
   ]
  },
  {
   "cell_type": "code",
   "execution_count": null,
   "metadata": {},
   "outputs": [],
   "source": []
  }
 ],
 "metadata": {
  "kernelspec": {
   "display_name": "Python (fastai)",
   "language": "python",
   "name": "fastai"
  },
  "language_info": {
   "codemirror_mode": {
    "name": "ipython",
    "version": 3
   },
   "file_extension": ".py",
   "mimetype": "text/x-python",
   "name": "python",
   "nbconvert_exporter": "python",
   "pygments_lexer": "ipython3",
   "version": "3.7.3"
  }
 },
 "nbformat": 4,
 "nbformat_minor": 2
}
