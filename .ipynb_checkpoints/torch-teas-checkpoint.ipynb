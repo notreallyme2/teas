{
 "cells": [
  {
   "cell_type": "markdown",
   "metadata": {},
   "source": [
    "# Target-embedded autoencoders"
   ]
  },
  {
   "cell_type": "code",
   "execution_count": 1,
   "metadata": {},
   "outputs": [],
   "source": [
    "import typing\n",
    "import gc\n",
    "import numpy as np\n",
    "import pandas as pd\n",
    "from tqdm import tqdm\n",
    "\n",
    "import torch\n",
    "from torch import nn, optim, tensor, FloatTensor\n",
    "from torch.utils.data import Dataset, TensorDataset, DataLoader, random_split\n",
    "import torch.nn.functional as F\n",
    "\n",
    "from fastai.basics import DataBunch # used for easy batching\n",
    "\n",
    "from tea_models import LinearAE, LinearFEA\n",
    "\n",
    "import matplotlib.pyplot as plt"
   ]
  },
  {
   "cell_type": "code",
   "execution_count": 2,
   "metadata": {},
   "outputs": [
    {
     "data": {
      "text/plain": [
       "<torch._C.Generator at 0x1228d50d0>"
      ]
     },
     "execution_count": 2,
     "metadata": {},
     "output_type": "execute_result"
    }
   ],
   "source": [
    "torch.manual_seed(123)"
   ]
  },
  {
   "cell_type": "markdown",
   "metadata": {},
   "source": [
    "### Load data, set model paramaters "
   ]
  },
  {
   "cell_type": "code",
   "execution_count": 3,
   "metadata": {},
   "outputs": [],
   "source": [
    "synthetic_expression_data = pd.read_csv(\"data/net1_expression_data.tsv\", sep='\\t')\n",
    "chip_features = pd.read_csv(\"data/net1_chip_features.tsv\", sep='\\t')\n",
    "gene_ids = pd.read_csv(\"data/net1_gene_ids.tsv\", sep='\\t')\n",
    "tfs = pd.read_csv(\"data/net1_transcription_factors.tsv\", sep='\\t')"
   ]
  },
  {
   "cell_type": "code",
   "execution_count": 4,
   "metadata": {},
   "outputs": [],
   "source": [
    "X_idx = [g in tfs.iloc[:,0].tolist() for g in synthetic_expression_data.columns]"
   ]
  },
  {
   "cell_type": "code",
   "execution_count": 5,
   "metadata": {},
   "outputs": [
    {
     "data": {
      "text/plain": [
       "(805, 1643)"
      ]
     },
     "execution_count": 5,
     "metadata": {},
     "output_type": "execute_result"
    }
   ],
   "source": [
    "synthetic_expression_data.values.shape"
   ]
  },
  {
   "cell_type": "code",
   "execution_count": 6,
   "metadata": {},
   "outputs": [],
   "source": [
    "train, valid, test = map(torch.FloatTensor, (\n",
    "    synthetic_expression_data.values[:500, :], \n",
    "    synthetic_expression_data.values[500:700, :],\n",
    "    synthetic_expression_data.values[700:, :]))"
   ]
  },
  {
   "cell_type": "code",
   "execution_count": 7,
   "metadata": {},
   "outputs": [],
   "source": [
    "batch_size = 128\n",
    "train_ds = TensorDataset(train[:, X_idx], train)\n",
    "valid_ds = TensorDataset(valid[:, X_idx], valid)\n",
    "test_ds = TensorDataset(test[:, X_idx], test)\n",
    "train_dl = DataLoader(train_ds, batch_size)\n",
    "valid_dl = DataLoader(valid_ds, batch_size)\n",
    "test_dl = DataLoader(test_ds, batch_size)"
   ]
  },
  {
   "cell_type": "code",
   "execution_count": 8,
   "metadata": {},
   "outputs": [
    {
     "data": {
      "text/plain": [
       "(torch.Size([194]), torch.Size([1643]))"
      ]
     },
     "execution_count": 8,
     "metadata": {},
     "output_type": "execute_result"
    }
   ],
   "source": [
    "# these also give us some shape values for later\n",
    "X, Y = next(iter(train_ds))\n",
    "X.shape, Y.shape"
   ]
  },
  {
   "cell_type": "code",
   "execution_count": 9,
   "metadata": {},
   "outputs": [],
   "source": [
    "input_dim = sum(X_idx)\n",
    "hidden_dim = 256\n",
    "output_dim = synthetic_expression_data.shape[1]"
   ]
  },
  {
   "cell_type": "markdown",
   "metadata": {},
   "source": [
    "### First, train a simple linear autoencoder "
   ]
  },
  {
   "cell_type": "code",
   "execution_count": 10,
   "metadata": {},
   "outputs": [
    {
     "data": {
      "text/plain": [
       "LinearAE(\n",
       "  (input): Linear(in_features=194, out_features=256, bias=True)\n",
       "  (output): Linear(in_features=256, out_features=194, bias=True)\n",
       ")"
      ]
     },
     "execution_count": 10,
     "metadata": {},
     "output_type": "execute_result"
    }
   ],
   "source": [
    "lae_model = LinearAE(input_dim, hidden_dim)\n",
    "lae_model"
   ]
  },
  {
   "cell_type": "code",
   "execution_count": 11,
   "metadata": {},
   "outputs": [],
   "source": [
    "# train the linear AE\n",
    "epochs = 100\n",
    "lr = 2e-3\n",
    "opt = optim.Adam(lae_model.parameters(), lr)\n",
    "mse = nn.MSELoss()\n",
    "train_loss, valid_loss = [], []"
   ]
  },
  {
   "cell_type": "code",
   "execution_count": 12,
   "metadata": {},
   "outputs": [
    {
     "name": "stderr",
     "output_type": "stream",
     "text": [
      "100%|██████████| 100/100 [00:01<00:00, 59.01it/s]\n"
     ]
    }
   ],
   "source": [
    "for e in tqdm(range(epochs)):\n",
    "    this_train_loss = np.mean([lae_model.update_batch(X, opt, mse) for X, _ in train_dl])\n",
    "    this_valid_loss = np.mean([lae_model.update_batch(X, opt, mse, train=False) for X, _ in valid_dl])\n",
    "    train_loss.append(this_train_loss)\n",
    "    valid_loss.append(this_valid_loss)"
   ]
  },
  {
   "cell_type": "code",
   "execution_count": 13,
   "metadata": {},
   "outputs": [
    {
     "data": {
      "image/png": "[encoded data removed]",
      "text/plain": [
       "<Figure size 432x288 with 1 Axes>"
      ]
     },
     "metadata": {
      "needs_background": "light"
     },
     "output_type": "display_data"
    }
   ],
   "source": [
    "# plot losses\n",
    "plt.plot([e for e in range(epochs)], train_loss, 'b')\n",
    "plt.plot([e for e in range(epochs)], valid_loss, 'r')\n",
    "plt.title(\"Losses (training loss in blue)\")\n",
    "plt.show()"
   ]
  },
  {
   "cell_type": "markdown",
   "metadata": {},
   "source": [
    "### Final validation loss "
   ]
  },
  {
   "cell_type": "code",
   "execution_count": 14,
   "metadata": {},
   "outputs": [
    {
     "name": "stdout",
     "output_type": "stream",
     "text": [
      "Final valid loss: 0.019216670654714108\n"
     ]
    }
   ],
   "source": [
    "print(\"Final valid loss: {}\".format(valid_loss[-1]))"
   ]
  },
  {
   "cell_type": "markdown",
   "metadata": {},
   "source": [
    "### Visualise predicted vs. actual"
   ]
  },
  {
   "cell_type": "code",
   "execution_count": 15,
   "metadata": {},
   "outputs": [],
   "source": [
    "# pick a row, generate predictions\n",
    "idx = 10\n",
    "X, Y = test_ds[idx]\n",
    "# Y_hat, X_tilde = lfea_model(X)\n",
    "X_tilde = lae_model(X)"
   ]
  },
  {
   "cell_type": "code",
   "execution_count": 16,
   "metadata": {},
   "outputs": [
    {
     "data": {
      "image/png": "[encoded data removed]",
      "text/plain": [
       "<Figure size 432x288 with 1 Axes>"
      ]
     },
     "metadata": {
      "needs_background": "light"
     },
     "output_type": "display_data"
    }
   ],
   "source": [
    "# X_tilde vs. X\n",
    "plt.scatter(X.detach().numpy(), X_tilde.detach().numpy())\n",
    "plt.title(\"Predicted X vs. observed X\");\n",
    "plt.xlim(0, 1.5)\n",
    "plt.ylim(0, 1.5)\n",
    "plt.xlabel(\"Observed\");\n",
    "plt.ylabel(\"Predicted\");"
   ]
  },
  {
   "cell_type": "markdown",
   "metadata": {},
   "source": [
    "### Now use these weights in a FEA"
   ]
  },
  {
   "cell_type": "code",
   "execution_count": 17,
   "metadata": {},
   "outputs": [],
   "source": [
    "class joint_loss(nn.Module):\n",
    "    \"\"\"\n",
    "    Parameters\n",
    "    ----------\n",
    "    lambda_ : float\n",
    "        Weighting in the joint joss. \n",
    "        Higher lambda_ favours lower reconstruction loss.\n",
    "    \"\"\"\n",
    "    def __init__(self, lambda_=0.5):\n",
    "        super().__init__()\n",
    "        self.X = X\n",
    "        self.Y = Y\n",
    "        self.lambda_ = lambda_\n",
    "        \n",
    "    def forward(self, X, X_tilde, Y, Y_hat):\n",
    "        mse = nn.MSELoss()\n",
    "        return ( ((1 - self.lambda_) * mse(Y_hat, Y)) + (self.lambda_ * mse(X_tilde, X)) )"
   ]
  },
  {
   "cell_type": "code",
   "execution_count": 40,
   "metadata": {},
   "outputs": [
    {
     "data": {
      "text/plain": [
       "LinearFEA(\n",
       "  (input): Linear(in_features=194, out_features=256, bias=True)\n",
       "  (predict_Y): Linear(in_features=256, out_features=1643, bias=True)\n",
       "  (reconstruct_X): Linear(in_features=256, out_features=194, bias=True)\n",
       ")"
      ]
     },
     "execution_count": 40,
     "metadata": {},
     "output_type": "execute_result"
    }
   ],
   "source": [
    "lfea_model = LinearFEA(input_dim, hidden_dim, output_dim)\n",
    "lfea_model"
   ]
  },
  {
   "cell_type": "markdown",
   "metadata": {},
   "source": [
    "### Copy the weights and biases from the trained AE"
   ]
  },
  {
   "cell_type": "code",
   "execution_count": 41,
   "metadata": {},
   "outputs": [
    {
     "data": {
      "text/plain": [
       "IncompatibleKeys(missing_keys=[], unexpected_keys=[])"
      ]
     },
     "execution_count": 41,
     "metadata": {},
     "output_type": "execute_result"
    }
   ],
   "source": [
    "lfea_model.input.load_state_dict(lae_model.input.state_dict(), strict=True)"
   ]
  },
  {
   "cell_type": "code",
   "execution_count": 42,
   "metadata": {},
   "outputs": [
    {
     "data": {
      "text/plain": [
       "IncompatibleKeys(missing_keys=[], unexpected_keys=[])"
      ]
     },
     "execution_count": 42,
     "metadata": {},
     "output_type": "execute_result"
    }
   ],
   "source": [
    "lfea_model.reconstruct_X.load_state_dict(lae_model.output.state_dict(), strict=True)"
   ]
  },
  {
   "cell_type": "code",
   "execution_count": 43,
   "metadata": {},
   "outputs": [],
   "source": [
    "# train the linear FEA\n",
    "epochs = 60\n",
    "lr = 6e-3\n",
    "opt = optim.Adam(lfea_model.parameters(), lr)\n",
    "criterion = joint_loss(lambda_= .5)\n",
    "train_loss, valid_loss = [], []"
   ]
  },
  {
   "cell_type": "code",
   "execution_count": 44,
   "metadata": {},
   "outputs": [
    {
     "name": "stderr",
     "output_type": "stream",
     "text": [
      "100%|██████████| 60/60 [00:02<00:00, 27.13it/s]\n"
     ]
    }
   ],
   "source": [
    "for e in tqdm(range(epochs)):\n",
    "    this_train_loss = np.mean([lfea_model.update_batch(X, Y, opt, criterion) for X, Y in train_dl])\n",
    "    this_valid_loss = np.mean([lfea_model.update_batch(X, Y, opt, criterion, train=False) for X, Y in valid_dl])\n",
    "    train_loss.append(this_train_loss)\n",
    "    valid_loss.append(this_valid_loss)"
   ]
  },
  {
   "cell_type": "code",
   "execution_count": 45,
   "metadata": {},
   "outputs": [
    {
     "data": {
      "image/png": "[encoded data removed]",
      "text/plain": [
       "<Figure size 432x288 with 1 Axes>"
      ]
     },
     "metadata": {
      "needs_background": "light"
     },
     "output_type": "display_data"
    }
   ],
   "source": [
    "# plot losses\n",
    "plt.plot([e for e in range(epochs)], train_loss, 'b')\n",
    "plt.plot([e for e in range(epochs)], valid_loss, 'r')\n",
    "plt.title(\"Losses (training loss in blue)\")\n",
    "plt.show()"
   ]
  },
  {
   "cell_type": "markdown",
   "metadata": {},
   "source": [
    "### Final validation loss"
   ]
  },
  {
   "cell_type": "code",
   "execution_count": 46,
   "metadata": {},
   "outputs": [
    {
     "name": "stdout",
     "output_type": "stream",
     "text": [
      "Final valid loss: 0.024114107713103294\n"
     ]
    }
   ],
   "source": [
    "print(\"Final valid loss: {}\".format(valid_loss[-1]))"
   ]
  },
  {
   "cell_type": "markdown",
   "metadata": {},
   "source": [
    "### Visualise predicted vs. actual"
   ]
  },
  {
   "cell_type": "code",
   "execution_count": 47,
   "metadata": {},
   "outputs": [],
   "source": [
    "# pick a row, generate predictions\n",
    "idx = 10\n",
    "X, Y = test_ds[idx]\n",
    "Y_hat, X_tilde = lfea_model(X)\n",
    "# X_tilde = lae_model(X)"
   ]
  },
  {
   "cell_type": "code",
   "execution_count": 48,
   "metadata": {},
   "outputs": [
    {
     "data": {
      "image/png": "[encoded data removed]",
      "text/plain": [
       "<Figure size 432x288 with 1 Axes>"
      ]
     },
     "metadata": {
      "needs_background": "light"
     },
     "output_type": "display_data"
    }
   ],
   "source": [
    "# Y_hat vs Y\n",
    "plt.scatter(Y.detach().numpy(), Y_hat.detach().numpy())\n",
    "plt.title(\"Predicted Y vs. observed Y\");\n",
    "plt.xlim(0, 1.5)\n",
    "plt.ylim(0, 1.5)\n",
    "plt.xlabel(\"Observed\");\n",
    "plt.ylabel(\"Predicted\");"
   ]
  },
  {
   "cell_type": "code",
   "execution_count": 49,
   "metadata": {},
   "outputs": [
    {
     "data": {
      "image/png": "[encoded data removed]",
      "text/plain": [
       "<Figure size 432x288 with 1 Axes>"
      ]
     },
     "metadata": {
      "needs_background": "light"
     },
     "output_type": "display_data"
    }
   ],
   "source": [
    "# X_tilde vs. X\n",
    "plt.scatter(X.detach().numpy(), X_tilde.detach().numpy())\n",
    "plt.title(\"Predicted X vs. observed X\");\n",
    "plt.xlim(0, 1.5)\n",
    "plt.ylim(0, 1.5)\n",
    "plt.xlabel(\"Observed\");\n",
    "plt.ylabel(\"Predicted\");"
   ]
  },
  {
   "cell_type": "markdown",
   "metadata": {},
   "source": [
    "### Test loss "
   ]
  },
  {
   "cell_type": "code",
   "execution_count": 50,
   "metadata": {},
   "outputs": [
    {
     "name": "stdout",
     "output_type": "stream",
     "text": [
      "Final test MSE loss on prediction task: 0.03618953377008438\n"
     ]
    }
   ],
   "source": [
    "# test losses\n",
    "test_pred = []\n",
    "pred_error = []\n",
    "mse = nn.MSELoss()\n",
    "for X, Y in test_ds:\n",
    "    Y_hat, _ = lfea_model(X)\n",
    "    test_pred.append(Y_hat.detach().numpy())\n",
    "    pred_error.append(mse(Y_hat, Y).detach().numpy())\n",
    "print(\"Final test MSE loss on prediction task: {}\".format(np.mean(pred_error)))"
   ]
  },
  {
   "cell_type": "code",
   "execution_count": 51,
   "metadata": {},
   "outputs": [
    {
     "data": {
      "text/plain": [
       "22530"
      ]
     },
     "execution_count": 51,
     "metadata": {},
     "output_type": "execute_result"
    }
   ],
   "source": [
    "gc.collect()"
   ]
  }
 ],
 "metadata": {
  "kernelspec": {
   "display_name": "Python (fastai)",
   "language": "python",
   "name": "fastai"
  },
  "language_info": {
   "codemirror_mode": {
    "name": "ipython",
    "version": 3
   },
   "file_extension": ".py",
   "mimetype": "text/x-python",
   "name": "python",
   "nbconvert_exporter": "python",
   "pygments_lexer": "ipython3",
   "version": "3.7.3"
  }
 },
 "nbformat": 4,
 "nbformat_minor": 2
}
