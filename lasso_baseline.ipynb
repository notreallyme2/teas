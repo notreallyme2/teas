{
 "cells": [
  {
   "cell_type": "code",
   "execution_count": 1,
   "metadata": {},
   "outputs": [],
   "source": [
    "import typing\n",
    "import gc\n",
    "import numpy as np\n",
    "import pandas as pd\n",
    "from sklearn.linear_model import Lasso\n",
    "from sklearn.metrics import mean_squared_error\n",
    "from tqdm import tqdm\n",
    "\n",
    "import matplotlib.pyplot as plt"
   ]
  },
  {
   "cell_type": "code",
   "execution_count": 2,
   "metadata": {},
   "outputs": [],
   "source": [
    "synthetic_expression_data = pd.read_csv(\"data/net1_expression_data.tsv\", sep='\\t')\n",
    "tfs = pd.read_csv(\"data/net1_transcription_factors.tsv\", sep='\\t')\n",
    "X_idx = [g in tfs.iloc[:,0].tolist() for g in synthetic_expression_data.columns]"
   ]
  },
  {
   "cell_type": "code",
   "execution_count": 3,
   "metadata": {},
   "outputs": [],
   "source": [
    "train, valid, test = (\n",
    "    synthetic_expression_data.values[:500, :], \n",
    "    synthetic_expression_data.values[500:700, :],\n",
    "    synthetic_expression_data.values[700:, :])"
   ]
  },
  {
   "cell_type": "code",
   "execution_count": 12,
   "metadata": {
    "scrolled": false
   },
   "outputs": [
    {
     "name": "stdout",
     "output_type": "stream",
     "text": [
      "Computing validation loss for alpha = 0.001\n",
      "Computing validation loss for alpha = 0.004105263157894737\n",
      "Computing validation loss for alpha = 0.007210526315789474\n",
      "Computing validation loss for alpha = 0.010315789473684212\n",
      "Computing validation loss for alpha = 0.013421052631578948\n",
      "Computing validation loss for alpha = 0.016526315789473684\n",
      "Computing validation loss for alpha = 0.019631578947368424\n",
      "Computing validation loss for alpha = 0.02273684210526316\n",
      "Computing validation loss for alpha = 0.025842105263157895\n",
      "Computing validation loss for alpha = 0.02894736842105263\n",
      "Computing validation loss for alpha = 0.03205263157894737\n",
      "Computing validation loss for alpha = 0.0351578947368421\n",
      "Computing validation loss for alpha = 0.038263157894736846\n",
      "Computing validation loss for alpha = 0.04136842105263158\n",
      "Computing validation loss for alpha = 0.04447368421052632\n",
      "Computing validation loss for alpha = 0.047578947368421054\n",
      "Computing validation loss for alpha = 0.05068421052631579\n",
      "Computing validation loss for alpha = 0.053789473684210526\n",
      "Computing validation loss for alpha = 0.05689473684210526\n",
      "Computing validation loss for alpha = 0.06\n"
     ]
    }
   ],
   "source": [
    "alphas = np.linspace(0.001, 0.06, num=20)\n",
    "valid_losses = []\n",
    "for alpha in alphas:\n",
    "    print(\"Computing validation loss for alpha = {}\".format(alpha))\n",
    "    lasso_model = Lasso(alpha).fit(train[:, X_idx], train)\n",
    "    Y_hat = lasso_model.predict(valid[:, X_idx])\n",
    "    valid_losses.append(mean_squared_error(Y_hat, valid))"
   ]
  },
  {
   "cell_type": "code",
   "execution_count": 13,
   "metadata": {},
   "outputs": [
    {
     "data": {
      "image/png": "[encoded data removed]",
      "text/plain": [
       "<Figure size 432x288 with 1 Axes>"
      ]
     },
     "metadata": {
      "needs_background": "light"
     },
     "output_type": "display_data"
    }
   ],
   "source": [
    "# plot losses\n",
    "plt.plot(alphas, valid_losses)\n",
    "plt.title(\"Loss by alpha\")\n",
    "plt.show()"
   ]
  },
  {
   "cell_type": "code",
   "execution_count": 14,
   "metadata": {},
   "outputs": [],
   "source": [
    "lasso_model = Lasso(alphas[1]).fit(train[:, X_idx], train)"
   ]
  },
  {
   "cell_type": "code",
   "execution_count": 15,
   "metadata": {},
   "outputs": [
    {
     "name": "stdout",
     "output_type": "stream",
     "text": [
      "Final test loss (mse): 0.026553129235773236\n"
     ]
    }
   ],
   "source": [
    "Y_hat = lasso_model.predict(test[:, X_idx])\n",
    "print(\"Final test loss (mse): {}\".format(mean_squared_error(Y_hat, test)))"
   ]
  },
  {
   "cell_type": "markdown",
   "metadata": {},
   "source": [
    "### Is X compressible?"
   ]
  },
  {
   "cell_type": "code",
   "execution_count": 16,
   "metadata": {},
   "outputs": [],
   "source": [
    "from sklearn.decomposition import PCA"
   ]
  },
  {
   "cell_type": "code",
   "execution_count": 29,
   "metadata": {},
   "outputs": [],
   "source": [
    "pca_model = PCA().fit(train[:, X_idx])"
   ]
  },
  {
   "cell_type": "code",
   "execution_count": 32,
   "metadata": {},
   "outputs": [
    {
     "data": {
      "text/plain": [
       "[<matplotlib.lines.Line2D at 0x1a21acd908>]"
      ]
     },
     "execution_count": 32,
     "metadata": {},
     "output_type": "execute_result"
    },
    {
     "data": {
      "image/png": "[encoded data removed]",
      "text/plain": [
       "<Figure size 432x288 with 1 Axes>"
      ]
     },
     "metadata": {
      "needs_background": "light"
     },
     "output_type": "display_data"
    }
   ],
   "source": [
    "plt.plot(pca_model.explained_variance_ratio_)"
   ]
  },
  {
   "cell_type": "code",
   "execution_count": 34,
   "metadata": {},
   "outputs": [
    {
     "data": {
      "text/plain": [
       "1.0000000000000002"
      ]
     },
     "execution_count": 34,
     "metadata": {},
     "output_type": "execute_result"
    }
   ],
   "source": [
    "# sanity check\n",
    "sum(pca_model.explained_variance_ratio_)"
   ]
  },
  {
   "cell_type": "code",
   "execution_count": null,
   "metadata": {},
   "outputs": [],
   "source": []
  }
 ],
 "metadata": {
  "kernelspec": {
   "display_name": "Python (fastai)",
   "language": "python",
   "name": "fastai"
  },
  "language_info": {
   "codemirror_mode": {
    "name": "ipython",
    "version": 3
   },
   "file_extension": ".py",
   "mimetype": "text/x-python",
   "name": "python",
   "nbconvert_exporter": "python",
   "pygments_lexer": "ipython3",
   "version": "3.7.3"
  }
 },
 "nbformat": 4,
 "nbformat_minor": 2
}
