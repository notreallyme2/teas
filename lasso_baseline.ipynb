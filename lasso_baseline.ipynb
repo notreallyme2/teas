{
 "cells": [
  {
   "cell_type": "code",
   "execution_count": 1,
   "metadata": {},
   "outputs": [],
   "source": [
    "import typing\n",
    "import gc\n",
    "import numpy as np\n",
    "import pandas as pd\n",
    "from sklearn.linear_model import Lasso\n",
    "from sklearn.metrics import mean_squared_error\n",
    "from sklearn.preprocessing import StandardScaler\n",
    "from tqdm import tqdm\n",
    "\n",
    "import matplotlib.pyplot as plt"
   ]
  },
  {
   "cell_type": "code",
   "execution_count": 7,
   "metadata": {},
   "outputs": [],
   "source": [
    "synthetic_expression_data = pd.read_csv(\"data/net1_expression_data.tsv\", sep='\\t')\n",
    "tfs = pd.read_csv(\"data/net1_transcription_factors.tsv\", sep='\\t')\n",
    "X_bool = [g in tfs.iloc[:,0].tolist() for g in synthetic_expression_data.columns]\n",
    "not_X = [not(e) for e in X_bool]\n",
    "X_idx = [i for (i, e) in enumerate(X_bool) if e]"
   ]
  },
  {
   "cell_type": "code",
   "execution_count": 8,
   "metadata": {},
   "outputs": [
    {
     "data": {
      "text/plain": [
       "0.22875542161490708"
      ]
     },
     "execution_count": 8,
     "metadata": {},
     "output_type": "execute_result"
    }
   ],
   "source": [
    "np.mean(synthetic_expression_data.iloc[:,5])"
   ]
  },
  {
   "cell_type": "code",
   "execution_count": 9,
   "metadata": {},
   "outputs": [
    {
     "data": {
      "text/plain": [
       "array([[-1.5135019 , -0.66290202,  1.03572236, ...,  0.80809829,\n",
       "        -0.50382442,  0.31617673],\n",
       "       [-1.45167419, -0.53050131,  0.8607514 , ...,  0.25232604,\n",
       "         0.12795303, -0.28548304],\n",
       "       [ 0.78925704,  0.10903195, -0.96012133, ..., -0.24248621,\n",
       "         2.06034446, -0.38735928],\n",
       "       ...,\n",
       "       [-0.41204774, -0.71939937, -1.46065408, ..., -1.36395599,\n",
       "         0.42436466, -1.38833964],\n",
       "       [-0.03053673, -0.69172511,  0.682982  , ..., -0.38703482,\n",
       "         0.29840991,  0.23433932],\n",
       "       [-0.58072988, -0.73283357, -1.38487299, ..., -1.36066726,\n",
       "         0.36135719, -1.49716293]])"
      ]
     },
     "execution_count": 9,
     "metadata": {},
     "output_type": "execute_result"
    }
   ],
   "source": [
    "# NORMALIZE\n",
    "z_transform = StandardScaler(copy=False)\n",
    "z_transform.fit_transform(synthetic_expression_data)"
   ]
  },
  {
   "cell_type": "code",
   "execution_count": 10,
   "metadata": {},
   "outputs": [
    {
     "data": {
      "text/plain": [
       "-2.4273199047705285e-17"
      ]
     },
     "execution_count": 10,
     "metadata": {},
     "output_type": "execute_result"
    }
   ],
   "source": [
    "np.mean(synthetic_expression_data.iloc[:,5])"
   ]
  },
  {
   "cell_type": "code",
   "execution_count": 11,
   "metadata": {},
   "outputs": [],
   "source": [
    "train, valid, test = (\n",
    "    synthetic_expression_data.values[:500, :], \n",
    "    synthetic_expression_data.values[500:700, :],\n",
    "    synthetic_expression_data.values[700:, :])"
   ]
  },
  {
   "cell_type": "code",
   "execution_count": 16,
   "metadata": {
    "scrolled": false
   },
   "outputs": [
    {
     "name": "stdout",
     "output_type": "stream",
     "text": [
      "Computing validation loss for alpha = 0.01\n",
      "Computing validation loss for alpha = 0.02263157894736842\n",
      "Computing validation loss for alpha = 0.035263157894736843\n",
      "Computing validation loss for alpha = 0.04789473684210526\n",
      "Computing validation loss for alpha = 0.060526315789473685\n",
      "Computing validation loss for alpha = 0.0731578947368421\n",
      "Computing validation loss for alpha = 0.08578947368421051\n",
      "Computing validation loss for alpha = 0.09842105263157894\n",
      "Computing validation loss for alpha = 0.11105263157894736\n",
      "Computing validation loss for alpha = 0.12368421052631579\n",
      "Computing validation loss for alpha = 0.13631578947368422\n",
      "Computing validation loss for alpha = 0.14894736842105263\n",
      "Computing validation loss for alpha = 0.16157894736842104\n",
      "Computing validation loss for alpha = 0.17421052631578948\n",
      "Computing validation loss for alpha = 0.1868421052631579\n",
      "Computing validation loss for alpha = 0.19947368421052633\n",
      "Computing validation loss for alpha = 0.21210526315789474\n",
      "Computing validation loss for alpha = 0.22473684210526315\n",
      "Computing validation loss for alpha = 0.2373684210526316\n",
      "Computing validation loss for alpha = 0.25\n"
     ]
    }
   ],
   "source": [
    "alphas = np.linspace(0.01, 0.25, num=20)\n",
    "valid_losses = []\n",
    "for alpha in alphas:\n",
    "    print(\"Computing validation loss for alpha = {}\".format(alpha))\n",
    "    lasso_model = Lasso(alpha).fit(train[:, X_bool], train)\n",
    "    Y_hat = lasso_model.predict(valid[:, X_bool])\n",
    "    valid_losses.append(mean_squared_error(Y_hat, valid))"
   ]
  },
  {
   "cell_type": "code",
   "execution_count": 17,
   "metadata": {},
   "outputs": [
    {
     "data": {
      "image/png": "[encoded data removed]",
      "text/plain": [
       "<Figure size 432x288 with 1 Axes>"
      ]
     },
     "metadata": {
      "needs_background": "light"
     },
     "output_type": "display_data"
    }
   ],
   "source": [
    "# plot losses\n",
    "plt.plot(alphas, valid_losses)\n",
    "plt.title(\"Loss by alpha\")\n",
    "plt.show()"
   ]
  },
  {
   "cell_type": "code",
   "execution_count": 18,
   "metadata": {},
   "outputs": [],
   "source": [
    "lasso_model = Lasso(alphas[np.argmin(valid_losses)]).fit(train[:, X_bool], train)"
   ]
  },
  {
   "cell_type": "markdown",
   "metadata": {},
   "source": [
    "Look at the model coefficients"
   ]
  },
  {
   "cell_type": "code",
   "execution_count": 26,
   "metadata": {},
   "outputs": [
    {
     "data": {
      "text/plain": [
       "[<matplotlib.lines.Line2D at 0x1a2918bdd8>]"
      ]
     },
     "execution_count": 26,
     "metadata": {},
     "output_type": "execute_result"
    },
    {
     "data": {
      "image/png": "[encoded data removed]",
      "text/plain": [
       "<Figure size 432x288 with 1 Axes>"
      ]
     },
     "metadata": {
      "needs_background": "light"
     },
     "output_type": "display_data"
    }
   ],
   "source": [
    "plt.plot(lasso_model.coef_[1])"
   ]
  },
  {
   "cell_type": "code",
   "execution_count": 27,
   "metadata": {},
   "outputs": [],
   "source": [
    "Y_hat = lasso_model.predict(valid[:, X_bool])"
   ]
  },
  {
   "cell_type": "code",
   "execution_count": 37,
   "metadata": {},
   "outputs": [
    {
     "data": {
      "image/png": "[encoded data removed]",
      "text/plain": [
       "<Figure size 432x288 with 1 Axes>"
      ]
     },
     "metadata": {
      "needs_background": "light"
     },
     "output_type": "display_data"
    }
   ],
   "source": [
    "# plot predicted vs. observed for a random row\n",
    "idx = np.random.randint(0, valid.shape[0])\n",
    "plt.scatter(valid[idx], Y_hat[idx])\n",
    "plt.xlabel(\"Observed\")\n",
    "plt.xlabel(\"Predicted\")\n",
    "plt.title(\"Predicted vs. observed (valid) for row {}\".format(idx));"
   ]
  },
  {
   "cell_type": "code",
   "execution_count": 29,
   "metadata": {},
   "outputs": [
    {
     "name": "stdout",
     "output_type": "stream",
     "text": [
      "Final test loss (mse): 0.8248402650510994\n"
     ]
    }
   ],
   "source": [
    "Y_hat = lasso_model.predict(test[:, X_bool])\n",
    "print(\"Final test loss (mse): {}\".format(mean_squared_error(Y_hat, test)))"
   ]
  },
  {
   "cell_type": "markdown",
   "metadata": {},
   "source": [
    "### Why is regularisation making performance poorer?\n",
    "Is X compressible?"
   ]
  },
  {
   "cell_type": "code",
   "execution_count": 30,
   "metadata": {},
   "outputs": [],
   "source": [
    "from sklearn.decomposition import PCA"
   ]
  },
  {
   "cell_type": "code",
   "execution_count": 31,
   "metadata": {},
   "outputs": [],
   "source": [
    "pca_model = PCA().fit(train[:, X_bool])"
   ]
  },
  {
   "cell_type": "code",
   "execution_count": 32,
   "metadata": {},
   "outputs": [
    {
     "data": {
      "text/plain": [
       "[<matplotlib.lines.Line2D at 0x1a295159b0>]"
      ]
     },
     "execution_count": 32,
     "metadata": {},
     "output_type": "execute_result"
    },
    {
     "data": {
      "image/png": "[encoded data removed]",
      "text/plain": [
       "<Figure size 432x288 with 1 Axes>"
      ]
     },
     "metadata": {
      "needs_background": "light"
     },
     "output_type": "display_data"
    }
   ],
   "source": [
    "plt.plot(pca_model.explained_variance_ratio_)"
   ]
  },
  {
   "cell_type": "code",
   "execution_count": 38,
   "metadata": {},
   "outputs": [
    {
     "data": {
      "text/plain": [
       "1.0000000000000002"
      ]
     },
     "execution_count": 38,
     "metadata": {},
     "output_type": "execute_result"
    }
   ],
   "source": [
    "# sanity check\n",
    "sum(pca_model.explained_variance_ratio_)"
   ]
  },
  {
   "cell_type": "markdown",
   "metadata": {},
   "source": [
    "**Is all the information really in variable 0?**"
   ]
  },
  {
   "cell_type": "code",
   "execution_count": 39,
   "metadata": {},
   "outputs": [],
   "source": [
    "lasso_model_2 = Lasso().fit(train[:, X_idx[0]].reshape(train.shape[0],1), train)"
   ]
  },
  {
   "cell_type": "code",
   "execution_count": 40,
   "metadata": {},
   "outputs": [
    {
     "name": "stdout",
     "output_type": "stream",
     "text": [
      "1.0103218929960154\n"
     ]
    }
   ],
   "source": [
    "Y_hat = lasso_model_2.predict(valid[:, X_idx[0]].reshape(valid.shape[0],1))\n",
    "print(mean_squared_error(Y_hat, valid))"
   ]
  },
  {
   "cell_type": "code",
   "execution_count": 41,
   "metadata": {},
   "outputs": [
    {
     "data": {
      "image/png": "[encoded data removed]",
      "text/plain": [
       "<Figure size 432x288 with 1 Axes>"
      ]
     },
     "metadata": {
      "needs_background": "light"
     },
     "output_type": "display_data"
    }
   ],
   "source": [
    "# plot predicted vs. observed for a random row\n",
    "idx = np.random.randint(0, valid.shape[0])\n",
    "plt.scatter(valid[idx], Y_hat[idx])\n",
    "plt.xlabel(\"Observed\")\n",
    "plt.xlabel(\"Predicted\")\n",
    "plt.title(\"Predicted vs. observed (valid) for row {}\".format(idx));"
   ]
  },
  {
   "cell_type": "code",
   "execution_count": 42,
   "metadata": {},
   "outputs": [
    {
     "name": "stdout",
     "output_type": "stream",
     "text": [
      "1.4450256383236184\n"
     ]
    },
    {
     "data": {
      "image/png": "[encoded data removed]",
      "text/plain": [
       "<Figure size 432x288 with 1 Axes>"
      ]
     },
     "metadata": {
      "needs_background": "light"
     },
     "output_type": "display_data"
    }
   ],
   "source": [
    "# what does random mse look like?\n",
    "rand_pred = np.random.uniform(0, 1.25, size=valid.shape[1])\n",
    "print(mean_squared_error(rand_pred, valid[0]))\n",
    "plt.scatter(valid[0], rand_pred);"
   ]
  },
  {
   "cell_type": "markdown",
   "metadata": {},
   "source": [
    "Let's try without variable 0"
   ]
  },
  {
   "cell_type": "code",
   "execution_count": 43,
   "metadata": {},
   "outputs": [],
   "source": [
    "X_idx = X_idx[1:]"
   ]
  },
  {
   "cell_type": "code",
   "execution_count": 45,
   "metadata": {},
   "outputs": [
    {
     "name": "stdout",
     "output_type": "stream",
     "text": [
      "Computing validation loss for alpha = 0.01\n",
      "Computing validation loss for alpha = 0.02263157894736842\n",
      "Computing validation loss for alpha = 0.035263157894736843\n",
      "Computing validation loss for alpha = 0.04789473684210526\n",
      "Computing validation loss for alpha = 0.060526315789473685\n",
      "Computing validation loss for alpha = 0.0731578947368421\n",
      "Computing validation loss for alpha = 0.08578947368421051\n",
      "Computing validation loss for alpha = 0.09842105263157894\n",
      "Computing validation loss for alpha = 0.11105263157894736\n",
      "Computing validation loss for alpha = 0.12368421052631579\n",
      "Computing validation loss for alpha = 0.13631578947368422\n",
      "Computing validation loss for alpha = 0.14894736842105263\n",
      "Computing validation loss for alpha = 0.16157894736842104\n",
      "Computing validation loss for alpha = 0.17421052631578948\n",
      "Computing validation loss for alpha = 0.1868421052631579\n",
      "Computing validation loss for alpha = 0.19947368421052633\n",
      "Computing validation loss for alpha = 0.21210526315789474\n",
      "Computing validation loss for alpha = 0.22473684210526315\n",
      "Computing validation loss for alpha = 0.2373684210526316\n",
      "Computing validation loss for alpha = 0.25\n"
     ]
    }
   ],
   "source": [
    "alphas = np.linspace(0.01, 0.25, num=20)\n",
    "valid_losses = []\n",
    "for alpha in alphas:\n",
    "    print(\"Computing validation loss for alpha = {}\".format(alpha))\n",
    "    lasso_model = Lasso(alpha).fit(train[:, X_bool], train)\n",
    "    Y_hat = lasso_model.predict(valid[:, X_bool])\n",
    "    valid_losses.append(mean_squared_error(Y_hat, valid))"
   ]
  },
  {
   "cell_type": "code",
   "execution_count": 46,
   "metadata": {},
   "outputs": [
    {
     "data": {
      "image/png": "[encoded data removed]",
      "text/plain": [
       "<Figure size 432x288 with 1 Axes>"
      ]
     },
     "metadata": {
      "needs_background": "light"
     },
     "output_type": "display_data"
    }
   ],
   "source": [
    "# plot losses\n",
    "plt.plot(alphas, valid_losses)\n",
    "plt.title(\"Loss by alpha\")\n",
    "plt.show()"
   ]
  },
  {
   "cell_type": "code",
   "execution_count": 47,
   "metadata": {},
   "outputs": [
    {
     "name": "stdout",
     "output_type": "stream",
     "text": [
      "Create a lasso model using alpha = 0.09842105263157894\n"
     ]
    }
   ],
   "source": [
    "print(\"Create a lasso model using alpha = {}\".format(alphas[np.argmin(valid_losses)]))\n",
    "lasso_model = Lasso(alphas[np.argmin(valid_losses)]).fit(train[:, X_idx], train)"
   ]
  },
  {
   "cell_type": "code",
   "execution_count": 48,
   "metadata": {},
   "outputs": [
    {
     "data": {
      "text/plain": [
       "[<matplotlib.lines.Line2D at 0x1a29cd0160>]"
      ]
     },
     "execution_count": 48,
     "metadata": {},
     "output_type": "execute_result"
    },
    {
     "data": {
      "image/png": "[encoded data removed]",
      "text/plain": [
       "<Figure size 432x288 with 1 Axes>"
      ]
     },
     "metadata": {
      "needs_background": "light"
     },
     "output_type": "display_data"
    }
   ],
   "source": [
    "plt.plot(lasso_model.coef_[1])"
   ]
  },
  {
   "cell_type": "code",
   "execution_count": 57,
   "metadata": {},
   "outputs": [
    {
     "data": {
      "image/png": "[encoded data removed]",
      "text/plain": [
       "<Figure size 432x288 with 1 Axes>"
      ]
     },
     "metadata": {
      "needs_background": "light"
     },
     "output_type": "display_data"
    }
   ],
   "source": [
    "# plot predicted vs. observed for a random row\n",
    "idx = np.random.randint(0, valid.shape[0])\n",
    "plt.scatter(valid[idx], Y_hat[idx])\n",
    "plt.xlabel(\"Observed\")\n",
    "plt.xlabel(\"Predicted\")\n",
    "plt.title(\"Predicted vs. observed (valid) for row {}\".format(idx));"
   ]
  },
  {
   "cell_type": "markdown",
   "metadata": {},
   "source": [
    "### Validation error"
   ]
  },
  {
   "cell_type": "code",
   "execution_count": 54,
   "metadata": {},
   "outputs": [
    {
     "name": "stdout",
     "output_type": "stream",
     "text": [
      "0.7631624239903559\n"
     ]
    }
   ],
   "source": [
    "Y_hat = lasso_model.predict(valid[:, X_idx])\n",
    "print(mean_squared_error(Y_hat, valid))"
   ]
  },
  {
   "cell_type": "markdown",
   "metadata": {},
   "source": [
    "### Test error"
   ]
  },
  {
   "cell_type": "code",
   "execution_count": 51,
   "metadata": {},
   "outputs": [
    {
     "name": "stdout",
     "output_type": "stream",
     "text": [
      "0.8251443901037103\n"
     ]
    }
   ],
   "source": [
    "Y_hat = lasso_model.predict(test[:, X_idx])\n",
    "print(mean_squared_error(Y_hat, test))"
   ]
  },
  {
   "cell_type": "markdown",
   "metadata": {},
   "source": [
    "### Let's try excluding the inputs from the outputs "
   ]
  },
  {
   "cell_type": "code",
   "execution_count": null,
   "metadata": {},
   "outputs": [],
   "source": [
    "alphas = np.linspace(0.001, 0.06, num=20)\n",
    "valid_losses = []\n",
    "for alpha in alphas:\n",
    "    print(\"Computing validation loss for alpha = {}\".format(alpha))\n",
    "    lasso_model = Lasso(alpha).fit(train[:, X_idx], train[:, not_X])\n",
    "    Y_hat = lasso_model.predict(valid[:, X_idx])\n",
    "    valid_losses.append(mean_squared_error(Y_hat, valid[:, not_X]))"
   ]
  },
  {
   "cell_type": "code",
   "execution_count": null,
   "metadata": {},
   "outputs": [],
   "source": [
    "# plot losses\n",
    "plt.plot(alphas, valid_losses)\n",
    "plt.title(\"Loss by alpha\")\n",
    "plt.show()"
   ]
  },
  {
   "cell_type": "code",
   "execution_count": null,
   "metadata": {},
   "outputs": [],
   "source": [
    "print(\"Create a lasso model using alpha = {}\".format(alphas[np.argmin(valid_losses)]))\n",
    "lasso_model = Lasso(alphas[np.argmin(valid_losses)]).fit(train[:, X_idx], train)"
   ]
  },
  {
   "cell_type": "code",
   "execution_count": null,
   "metadata": {},
   "outputs": [],
   "source": [
    "plt.plot(lasso_model.coef_[1])"
   ]
  },
  {
   "cell_type": "code",
   "execution_count": null,
   "metadata": {},
   "outputs": [],
   "source": [
    "Y_hat = lasso_model_2.predict(valid[:, X_idx[0]].reshape(valid.shape[0],1))\n",
    "print(mean_squared_error(Y_hat, valid))\n",
    "plt.scatter(valid[3], Y_hat[3]);"
   ]
  },
  {
   "cell_type": "code",
   "execution_count": null,
   "metadata": {},
   "outputs": [],
   "source": []
  },
  {
   "cell_type": "markdown",
   "metadata": {},
   "source": [
    "### Is Y compressible?"
   ]
  },
  {
   "cell_type": "code",
   "execution_count": 58,
   "metadata": {},
   "outputs": [],
   "source": [
    "pca_model = PCA().fit(train)"
   ]
  },
  {
   "cell_type": "code",
   "execution_count": 59,
   "metadata": {},
   "outputs": [
    {
     "data": {
      "text/plain": [
       "[<matplotlib.lines.Line2D at 0x1a2dcdd400>]"
      ]
     },
     "execution_count": 59,
     "metadata": {},
     "output_type": "execute_result"
    },
    {
     "data": {
      "image/png": "[encoded data removed]",
      "text/plain": [
       "<Figure size 432x288 with 1 Axes>"
      ]
     },
     "metadata": {
      "needs_background": "light"
     },
     "output_type": "display_data"
    }
   ],
   "source": [
    "plt.plot(pca_model.explained_variance_ratio_)"
   ]
  },
  {
   "cell_type": "code",
   "execution_count": 60,
   "metadata": {},
   "outputs": [
    {
     "data": {
      "text/plain": [
       "0.9999999999999984"
      ]
     },
     "execution_count": 60,
     "metadata": {},
     "output_type": "execute_result"
    }
   ],
   "source": [
    "# sanity check\n",
    "sum(pca_model.explained_variance_ratio_)"
   ]
  },
  {
   "cell_type": "code",
   "execution_count": null,
   "metadata": {},
   "outputs": [],
   "source": []
  }
 ],
 "metadata": {
  "kernelspec": {
   "display_name": "Python (fastai)",
   "language": "python",
   "name": "fastai"
  },
  "language_info": {
   "codemirror_mode": {
    "name": "ipython",
    "version": 3
   },
   "file_extension": ".py",
   "mimetype": "text/x-python",
   "name": "python",
   "nbconvert_exporter": "python",
   "pygments_lexer": "ipython3",
   "version": "3.7.3"
  }
 },
 "nbformat": 4,
 "nbformat_minor": 2
}
