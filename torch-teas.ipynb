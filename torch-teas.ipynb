{
 "cells": [
  {
   "cell_type": "markdown",
   "metadata": {},
   "source": [
    "# Target-embedded autoencoders"
   ]
  },
  {
   "cell_type": "code",
   "execution_count": 1,
   "metadata": {},
   "outputs": [],
   "source": [
    "import typing\n",
    "import numpy as np\n",
    "import pandas as pd\n",
    "from tqdm import tqdm\n",
    "\n",
    "import torch\n",
    "from torch import nn, optim, tensor, FloatTensor\n",
    "from torch.utils.data import Dataset, TensorDataset, DataLoader, random_split\n",
    "import torch.nn.functional as F\n",
    "\n",
    "from fastai.basics import DataBunch # used for easy batching\n",
    "\n",
    "from tea_models import LinearMLP\n",
    "\n",
    "import matplotlib.pyplot as plt"
   ]
  },
  {
   "cell_type": "code",
   "execution_count": 40,
   "metadata": {},
   "outputs": [
    {
     "data": {
      "text/plain": [
       "<torch._C.Generator at 0x119a8b0d0>"
      ]
     },
     "execution_count": 40,
     "metadata": {},
     "output_type": "execute_result"
    }
   ],
   "source": [
    "torch.manual_seed(123)"
   ]
  },
  {
   "cell_type": "code",
   "execution_count": 2,
   "metadata": {},
   "outputs": [],
   "source": [
    "synthetic_expression_data = pd.read_csv(\"data/net1_expression_data.tsv\", sep='\\t')\n",
    "chip_features = pd.read_csv(\"data/net1_chip_features.tsv\", sep='\\t')\n",
    "gene_ids = pd.read_csv(\"data/net1_gene_ids.tsv\", sep='\\t')\n",
    "tfs = pd.read_csv(\"data/net1_transcription_factors.tsv\", sep='\\t')"
   ]
  },
  {
   "cell_type": "code",
   "execution_count": 3,
   "metadata": {},
   "outputs": [],
   "source": [
    "X_idx = [g in tfs.iloc[:,0].tolist() for g in synthetic_expression_data.columns]"
   ]
  },
  {
   "cell_type": "code",
   "execution_count": 4,
   "metadata": {},
   "outputs": [
    {
     "data": {
      "text/plain": [
       "(805, 1643)"
      ]
     },
     "execution_count": 4,
     "metadata": {},
     "output_type": "execute_result"
    }
   ],
   "source": [
    "synthetic_expression_data.values.shape"
   ]
  },
  {
   "cell_type": "code",
   "execution_count": 5,
   "metadata": {},
   "outputs": [],
   "source": [
    "train, valid, test = map(torch.FloatTensor, (\n",
    "    synthetic_expression_data.values[:500, :], \n",
    "    synthetic_expression_data.values[500:700, :],\n",
    "    synthetic_expression_data.values[700:, :]))"
   ]
  },
  {
   "cell_type": "code",
   "execution_count": 6,
   "metadata": {},
   "outputs": [],
   "source": [
    "batch_size = 128\n",
    "train_ds = TensorDataset(train[:, X_idx], train)\n",
    "valid_ds = TensorDataset(valid[:, X_idx], valid)\n",
    "test_ds = TensorDataset(test[:, X_idx], test)\n",
    "data = DataBunch.create(train_ds, valid_ds, bs = batch_size) # easy batching"
   ]
  },
  {
   "cell_type": "code",
   "execution_count": 11,
   "metadata": {},
   "outputs": [
    {
     "data": {
      "text/plain": [
       "(torch.Size([194]), torch.Size([1643]))"
      ]
     },
     "execution_count": 11,
     "metadata": {},
     "output_type": "execute_result"
    }
   ],
   "source": [
    "X, Y = next(iter(train_ds))\n",
    "X.shape, Y.shape"
   ]
  },
  {
   "cell_type": "code",
   "execution_count": 7,
   "metadata": {},
   "outputs": [],
   "source": [
    "class LinearAE(nn.Module):\n",
    "    \"\"\"A pytorch module to build a simple linear autoencoder\"\"\"\n",
    "\n",
    "    def __init__(self, input_dim = 194, hidden_dim = 256):\n",
    "        \"\"\"\n",
    "        Parameters\n",
    "        ----------\n",
    "        input_dim : int\n",
    "            The number of input (and output) features\n",
    "        hidden_dim : int\n",
    "            The number of features in the hidden layer\n",
    "        \"\"\"\n",
    "        super().__init__()\n",
    "        self.input = nn.Linear(input_dim, hidden_dim)\n",
    "        self.output = nn.Linear(hidden_dim, input_dim)\n",
    "  \n",
    "    def forward(self, X):\n",
    "        X = self.input(X)\n",
    "        return (self.output(X))"
   ]
  },
  {
   "cell_type": "code",
   "execution_count": 45,
   "metadata": {},
   "outputs": [],
   "source": [
    "class LinearFEA(nn.Module):\n",
    "    \"\"\"A pytorch module to build a linear forward-embedding autoencoder\"\"\"\n",
    "\n",
    "    def __init__(self, input_dim = 194, hidden_dim = 256, output_dim = 1643):\n",
    "        \"\"\"\n",
    "        Parameters\n",
    "        ----------\n",
    "        input_dim : int\n",
    "            The number of input features\n",
    "        hidden_dim : int\n",
    "            The number of features in the hidden layer\n",
    "        output_dim : int\n",
    "            The number of output features\n",
    "        \"\"\"\n",
    "        super().__init__()\n",
    "        self.input = nn.Linear(input_dim, hidden_dim)\n",
    "        self.predict_Y = nn.Linear(hidden_dim, output_dim)\n",
    "        self.reconstruct_X = nn.Linear(hidden_dim, input_dim)\n",
    "  \n",
    "    def forward(self, X):\n",
    "        Z = self.input(X)\n",
    "        Y_hat = self.predict_Y(Z)\n",
    "        X_tilde = self.reconstruct_X(Z)\n",
    "        return Y_hat, X_tilde"
   ]
  },
  {
   "cell_type": "code",
   "execution_count": 9,
   "metadata": {},
   "outputs": [],
   "source": [
    "class joint_loss(nn.Module):\n",
    "    \"\"\"\n",
    "    Parameters\n",
    "    ----------\n",
    "    lambda_ : float\n",
    "        Weighting in the joint joss. \n",
    "        Higher lambda_ favours lower reconstruction loss.\n",
    "    \"\"\"\n",
    "    def __init__(self, lambda_=0.5):\n",
    "        super().__init__()\n",
    "        self.X = X\n",
    "        self.Y = Y\n",
    "        self.lambda_ = lambda_\n",
    "        \n",
    "    def forward(self, X, X_tilde, Y, Y_hat):\n",
    "        mse = nn.MSELoss()\n",
    "        return ( ((1 - self.lambda_) * mse(Y_hat, Y)) + (self.lambda_ * mse(X_tilde, X)) )"
   ]
  },
  {
   "cell_type": "code",
   "execution_count": 12,
   "metadata": {},
   "outputs": [],
   "source": [
    "lfae_loss_func = joint_loss(lambda_= .5)\n",
    "mse = nn.MSELoss()\n",
    "input_dim = sum(X_idx)\n",
    "hidden_dim = 256\n",
    "output_dim = synthetic_expression_data.shape[1]"
   ]
  },
  {
   "cell_type": "code",
   "execution_count": 46,
   "metadata": {},
   "outputs": [],
   "source": [
    "lfea_model = LinearFEA(input_dim, hidden_dim, output_dim)"
   ]
  },
  {
   "cell_type": "code",
   "execution_count": 48,
   "metadata": {},
   "outputs": [
    {
     "data": {
      "text/plain": [
       "IncompatibleKeys(missing_keys=[], unexpected_keys=[])"
      ]
     },
     "execution_count": 48,
     "metadata": {},
     "output_type": "execute_result"
    }
   ],
   "source": [
    "lfea_model.input.load_state_dict(lae_model.input.state_dict())"
   ]
  },
  {
   "cell_type": "code",
   "execution_count": 24,
   "metadata": {},
   "outputs": [],
   "source": [
    "lae_model = LinearAE(input_dim, hidden_dim)"
   ]
  },
  {
   "cell_type": "code",
   "execution_count": 25,
   "metadata": {},
   "outputs": [],
   "source": [
    "def update_lae_batch(model, X, lr, train = True):\n",
    "    \"\"\"update_batch takes a model, data, a learning rate and a boolean indicating whether this update \n",
    "    should be treated as a training run (i.e. the model's weights should be updated) \n",
    "    or not. This function is not for production use, as it has a number of hidden parameters (e.g. optimizer).  \n",
    "    \n",
    "    Parameters\n",
    "    ----------\n",
    "    model : torch.nn.mnodule\n",
    "        The model to be updated\n",
    "    X : torch.FloatTensor\n",
    "        The input data (i.e feature matrix)\n",
    "    lr : float\n",
    "        The learning rate to be passed to the optimizer\n",
    "    train : bool\n",
    "        Should the weights be updated (default = True)\n",
    "    \"\"\"\n",
    "    X_tilde = model(X)\n",
    "    loss = mse(X_tilde, X)\n",
    "    if train:\n",
    "        opt = optim.Adam(model.parameters(), lr)\n",
    "        loss.backward()\n",
    "        opt.step()\n",
    "        opt.zero_grad()\n",
    "    return loss.item()"
   ]
  },
  {
   "cell_type": "code",
   "execution_count": null,
   "metadata": {},
   "outputs": [],
   "source": [
    "def update_lfea_batch(model, X, Y, lr, train = True):\n",
    "    \"\"\"update_batch takes a model, data, a learning rate and a boolean indicating whether this update \n",
    "    should be treated as a training run (i.e. the model's weights should be updated) \n",
    "    or not. This function is not for production use, as it has a number of hidden parameters (e.g. optimizer).  \n",
    "    \n",
    "    Parameters\n",
    "    ----------\n",
    "    model : torch.nn.mnodule\n",
    "        The model to be updated\n",
    "    X : torch.FloatTensor\n",
    "        The input data (i.e feature matrix)\n",
    "    Y : torch.FloatTensor\n",
    "        The target matrix)\n",
    "    lr : float\n",
    "        The learning rate to be passed to the optimizer\n",
    "    train : bool\n",
    "        Should the weights be updated (default = True)\n",
    "    \"\"\"\n",
    "    Y_hat, X_tilde = model(X)\n",
    "    loss = loss_func(X, X_tilde, Y, Y_hat)\n",
    "    if train:\n",
    "        opt = optim.Adam(model.parameters(), lr)\n",
    "        loss.backward()\n",
    "        opt.step()\n",
    "        opt.zero_grad()\n",
    "    return loss.item()"
   ]
  },
  {
   "cell_type": "code",
   "execution_count": 28,
   "metadata": {},
   "outputs": [
    {
     "name": "stderr",
     "output_type": "stream",
     "text": [
      "100%|██████████| 50/50 [00:06<00:00,  7.31it/s]\n"
     ]
    }
   ],
   "source": [
    "# train the linear AE\n",
    "epochs = 50\n",
    "lr = 1e-3\n",
    "train_loss, valid_loss = [], []\n",
    "for e in tqdm(range(epochs)):\n",
    "    this_train_loss = np.mean([update_lae_batch(lae_model, X, lr) for X, _ in data.train_dl])\n",
    "    this_valid_loss = np.mean([update_lae_batch(lae_model, X, lr, train=False) for X, _ in data.valid_dl])\n",
    "    train_loss.append(this_train_loss)\n",
    "    valid_loss.append(this_valid_loss)"
   ]
  },
  {
   "cell_type": "code",
   "execution_count": null,
   "metadata": {},
   "outputs": [],
   "source": [
    "# # train the linear FEA\n",
    "# epochs = 20\n",
    "# lr = 1e-3\n",
    "# train_loss, valid_loss = [], []\n",
    "# for e in tqdm(range(epochs)):\n",
    "#     this_train_loss = np.mean([update_lfea_batch(lfea_model, X, Y, lr) for X, Y in data.train_dl])\n",
    "#     this_valid_loss = np.mean([update_lfea_batch(lfea_model, X, Y, lr, train=False) for X, Y in data.valid_dl])\n",
    "#     train_loss.append(this_train_loss)\n",
    "#     valid_loss.append(this_valid_loss)"
   ]
  },
  {
   "cell_type": "code",
   "execution_count": 29,
   "metadata": {},
   "outputs": [
    {
     "data": {
      "image/png": "[encoded data removed]",
      "text/plain": [
       "<Figure size 432x288 with 1 Axes>"
      ]
     },
     "metadata": {
      "needs_background": "light"
     },
     "output_type": "display_data"
    }
   ],
   "source": [
    "# plot losses\n",
    "plt.plot([e for e in range(epochs)], train_loss, 'b')\n",
    "plt.plot([e for e in range(epochs)], valid_loss, 'r')\n",
    "plt.title(\"Losses (training loss in blue)\")\n",
    "plt.show()"
   ]
  },
  {
   "cell_type": "markdown",
   "metadata": {},
   "source": [
    "### Test loss "
   ]
  },
  {
   "cell_type": "code",
   "execution_count": null,
   "metadata": {},
   "outputs": [],
   "source": [
    "test_pred = []\n",
    "pred_error = []\n",
    "mse = nn.MSELoss()\n",
    "for X, Y in test_ds:\n",
    "    Y_hat, _ = lfea_model(X)\n",
    "    test_pred.append(Y_hat.detach().numpy())\n",
    "    pred_error.append(mse(Y_hat, Y).detach().numpy())"
   ]
  },
  {
   "cell_type": "code",
   "execution_count": null,
   "metadata": {},
   "outputs": [],
   "source": [
    "print(\"Final test MSE loss on prediction task: {}\".format(np.mean(pred_error)))"
   ]
  },
  {
   "cell_type": "markdown",
   "metadata": {},
   "source": [
    "### Visualise predicted vs. actual"
   ]
  },
  {
   "cell_type": "code",
   "execution_count": 30,
   "metadata": {},
   "outputs": [],
   "source": [
    "idx = 10\n",
    "X, Y = test_ds[idx]"
   ]
  },
  {
   "cell_type": "code",
   "execution_count": 49,
   "metadata": {},
   "outputs": [],
   "source": [
    "Y_hat, X_tilde = lfea_model(X)\n",
    "# X_tilde = lae_model(X)"
   ]
  },
  {
   "cell_type": "code",
   "execution_count": 50,
   "metadata": {},
   "outputs": [
    {
     "data": {
      "image/png": "[encoded data removed]",
      "text/plain": [
       "<Figure size 432x288 with 1 Axes>"
      ]
     },
     "metadata": {
      "needs_background": "light"
     },
     "output_type": "display_data"
    }
   ],
   "source": [
    "plt.scatter(Y.detach().numpy(), Y_hat.detach().numpy())\n",
    "plt.title(\"Predicted Y vs. observed Y\");\n",
    "plt.xlim(0, 1.5)\n",
    "plt.ylim(0, 1.5)\n",
    "plt.xlabel(\"Observed\");\n",
    "plt.ylabel(\"Predicted\");"
   ]
  },
  {
   "cell_type": "code",
   "execution_count": 51,
   "metadata": {},
   "outputs": [
    {
     "data": {
      "image/png": "[encoded data removed]",
      "text/plain": [
       "<Figure size 432x288 with 1 Axes>"
      ]
     },
     "metadata": {
      "needs_background": "light"
     },
     "output_type": "display_data"
    }
   ],
   "source": [
    "plt.scatter(X.detach().numpy(), X_tilde.detach().numpy())\n",
    "plt.title(\"Predicted X vs. observed X\");\n",
    "plt.xlim(0, 1.5)\n",
    "plt.ylim(0, 1.5)\n",
    "plt.xlabel(\"Observed\");\n",
    "plt.ylabel(\"Predicted\");"
   ]
  },
  {
   "cell_type": "code",
   "execution_count": 39,
   "metadata": {},
   "outputs": [
    {
     "data": {
      "text/plain": [
       "[torch.Size([256, 194]),\n",
       " torch.Size([256]),\n",
       " torch.Size([194, 256]),\n",
       " torch.Size([194])]"
      ]
     },
     "execution_count": 39,
     "metadata": {},
     "output_type": "execute_result"
    }
   ],
   "source": [
    "[p.shape for p in lae_model.parameters()]"
   ]
  },
  {
   "cell_type": "code",
   "execution_count": 42,
   "metadata": {},
   "outputs": [
    {
     "data": {
      "text/plain": [
       "['__call__',\n",
       " '__class__',\n",
       " '__delattr__',\n",
       " '__dict__',\n",
       " '__dir__',\n",
       " '__doc__',\n",
       " '__eq__',\n",
       " '__format__',\n",
       " '__ge__',\n",
       " '__getattr__',\n",
       " '__getattribute__',\n",
       " '__gt__',\n",
       " '__hash__',\n",
       " '__init__',\n",
       " '__init_subclass__',\n",
       " '__le__',\n",
       " '__lt__',\n",
       " '__module__',\n",
       " '__ne__',\n",
       " '__new__',\n",
       " '__reduce__',\n",
       " '__reduce_ex__',\n",
       " '__repr__',\n",
       " '__setattr__',\n",
       " '__setstate__',\n",
       " '__sizeof__',\n",
       " '__str__',\n",
       " '__subclasshook__',\n",
       " '__weakref__',\n",
       " '_apply',\n",
       " '_backend',\n",
       " '_backward_hooks',\n",
       " '_buffers',\n",
       " '_forward_hooks',\n",
       " '_forward_pre_hooks',\n",
       " '_get_name',\n",
       " '_load_from_state_dict',\n",
       " '_load_state_dict_pre_hooks',\n",
       " '_modules',\n",
       " '_named_members',\n",
       " '_parameters',\n",
       " '_register_load_state_dict_pre_hook',\n",
       " '_register_state_dict_hook',\n",
       " '_slow_forward',\n",
       " '_state_dict_hooks',\n",
       " '_tracing_name',\n",
       " '_version',\n",
       " 'add_module',\n",
       " 'apply',\n",
       " 'buffers',\n",
       " 'children',\n",
       " 'cpu',\n",
       " 'cuda',\n",
       " 'double',\n",
       " 'dump_patches',\n",
       " 'eval',\n",
       " 'extra_repr',\n",
       " 'float',\n",
       " 'forward',\n",
       " 'half',\n",
       " 'input',\n",
       " 'load_state_dict',\n",
       " 'modules',\n",
       " 'named_buffers',\n",
       " 'named_children',\n",
       " 'named_modules',\n",
       " 'named_parameters',\n",
       " 'output',\n",
       " 'parameters',\n",
       " 'register_backward_hook',\n",
       " 'register_buffer',\n",
       " 'register_forward_hook',\n",
       " 'register_forward_pre_hook',\n",
       " 'register_parameter',\n",
       " 'share_memory',\n",
       " 'state_dict',\n",
       " 'to',\n",
       " 'train',\n",
       " 'training',\n",
       " 'type',\n",
       " 'zero_grad']"
      ]
     },
     "execution_count": 42,
     "metadata": {},
     "output_type": "execute_result"
    }
   ],
   "source": [
    "dir(lae_model)"
   ]
  },
  {
   "cell_type": "code",
   "execution_count": 44,
   "metadata": {},
   "outputs": [
    {
     "data": {
      "text/plain": [
       "OrderedDict([('weight',\n",
       "              tensor([[-0.0558,  0.0278,  0.0387,  ...,  0.0199, -0.0266, -0.0618],\n",
       "                      [ 0.0374,  0.0049, -0.0371,  ...,  0.0165, -0.0348,  0.0179],\n",
       "                      [ 0.0001,  0.0587, -0.0335,  ..., -0.0376, -0.0672,  0.0090],\n",
       "                      ...,\n",
       "                      [ 0.0103,  0.0242, -0.0195,  ..., -0.0120, -0.0605, -0.0407],\n",
       "                      [ 0.0178, -0.0588, -0.0223,  ...,  0.0447, -0.0033,  0.0142],\n",
       "                      [-0.0296, -0.0279,  0.0027,  ...,  0.0313,  0.0239, -0.0215]])),\n",
       "             ('bias',\n",
       "              tensor([-0.0691,  0.0194,  0.0307, -0.0213,  0.0530, -0.0522,  0.0142,  0.0674,\n",
       "                       0.0539, -0.0587, -0.0630, -0.0530, -0.0168,  0.0385, -0.0700, -0.0318,\n",
       "                      -0.0475, -0.0199,  0.0663, -0.0231, -0.0242,  0.0232,  0.0606, -0.0110,\n",
       "                      -0.0712, -0.0260,  0.0426,  0.0473, -0.0584,  0.0257, -0.0555,  0.0743,\n",
       "                       0.0048,  0.0294, -0.0404, -0.0481, -0.0544,  0.0225,  0.0033, -0.0119,\n",
       "                       0.0207, -0.0529,  0.0148,  0.0673, -0.0514,  0.0224,  0.0458,  0.0647,\n",
       "                       0.0548, -0.0446, -0.0104,  0.0574,  0.0464, -0.0461,  0.0401,  0.0146,\n",
       "                      -0.0109, -0.0528,  0.0210,  0.0317, -0.0533, -0.0281,  0.0292, -0.0032,\n",
       "                      -0.0529,  0.0303, -0.0167, -0.0345, -0.0030, -0.0089,  0.0410, -0.0358,\n",
       "                      -0.0324, -0.0510,  0.0636,  0.0187, -0.0631,  0.0064,  0.0693, -0.0196,\n",
       "                      -0.0459, -0.0542, -0.0320,  0.0277, -0.0099, -0.0480,  0.0596,  0.0278,\n",
       "                       0.0309,  0.0178,  0.0302,  0.0442,  0.0067, -0.0558,  0.0280,  0.0640,\n",
       "                       0.0432, -0.0340, -0.0263,  0.0646,  0.0096,  0.0082,  0.0538, -0.0352,\n",
       "                       0.0378, -0.0599, -0.0172,  0.0385, -0.0301,  0.0050,  0.0195,  0.0212,\n",
       "                      -0.0234,  0.0074, -0.0012,  0.0259,  0.0598,  0.0052,  0.0250,  0.0656,\n",
       "                       0.0283, -0.0442, -0.0176, -0.0017, -0.0363, -0.0346,  0.0193, -0.0568,\n",
       "                      -0.0264,  0.0399, -0.0648,  0.0330, -0.0274, -0.0436,  0.0532, -0.0338,\n",
       "                      -0.0201, -0.0707, -0.0566,  0.0046,  0.0741, -0.0618,  0.0623, -0.0702,\n",
       "                      -0.0500, -0.0330, -0.0256,  0.0542,  0.0524,  0.0463, -0.0127, -0.0183,\n",
       "                       0.0387,  0.0565,  0.0242,  0.0555,  0.0184,  0.0065,  0.0716,  0.0221,\n",
       "                      -0.0366, -0.0347, -0.0349,  0.0573, -0.0263, -0.0547,  0.0646, -0.0757,\n",
       "                       0.0049, -0.0036,  0.0441, -0.0335, -0.0686,  0.0274,  0.0649, -0.0094,\n",
       "                       0.0390, -0.0194,  0.0649, -0.0284,  0.0212,  0.0718,  0.0593,  0.0365,\n",
       "                       0.0101,  0.0234,  0.0558,  0.0029,  0.0089, -0.0131, -0.0190,  0.0298,\n",
       "                      -0.0162,  0.0595, -0.0640,  0.0465,  0.0478, -0.0187, -0.0236, -0.0407,\n",
       "                      -0.0648, -0.0423,  0.0744,  0.0176,  0.0528, -0.0274,  0.0445, -0.0259,\n",
       "                       0.0293, -0.0634, -0.0671, -0.0626, -0.0064,  0.0547,  0.0325,  0.0104,\n",
       "                       0.0360, -0.0533,  0.0519, -0.0475,  0.0445, -0.0197, -0.0261, -0.0045,\n",
       "                       0.0137, -0.0540, -0.0256, -0.0617, -0.0021,  0.0459, -0.0242, -0.0124,\n",
       "                       0.0196,  0.0485, -0.0072,  0.0183,  0.0238, -0.0644,  0.0266, -0.0105,\n",
       "                       0.0511,  0.0053, -0.0137,  0.0435,  0.0269, -0.0286,  0.0162, -0.0607,\n",
       "                      -0.0648, -0.0408,  0.0142, -0.0035, -0.0377, -0.0023,  0.0541,  0.0029]))])"
      ]
     },
     "execution_count": 44,
     "metadata": {},
     "output_type": "execute_result"
    }
   ],
   "source": [
    "lae_model.input.state_dict()"
   ]
  },
  {
   "cell_type": "code",
   "execution_count": null,
   "metadata": {},
   "outputs": [],
   "source": []
  }
 ],
 "metadata": {
  "kernelspec": {
   "display_name": "Python (fastai)",
   "language": "python",
   "name": "fastai"
  },
  "language_info": {
   "codemirror_mode": {
    "name": "ipython",
    "version": 3
   },
   "file_extension": ".py",
   "mimetype": "text/x-python",
   "name": "python",
   "nbconvert_exporter": "python",
   "pygments_lexer": "ipython3",
   "version": "3.7.3"
  }
 },
 "nbformat": 4,
 "nbformat_minor": 2
}
